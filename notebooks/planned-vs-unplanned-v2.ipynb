{
 "cells": [
  {
   "cell_type": "code",
   "execution_count": 1,
   "id": "901aaed4",
   "metadata": {
    "execution": {
     "iopub.execute_input": "2025-09-16T09:30:05.261487Z",
     "iopub.status.busy": "2025-09-16T09:30:05.261119Z",
     "iopub.status.idle": "2025-09-16T09:30:27.337019Z",
     "shell.execute_reply": "2025-09-16T09:30:27.335237Z"
    },
    "papermill": {
     "duration": 22.084905,
     "end_time": "2025-09-16T09:30:27.339689",
     "exception": false,
     "start_time": "2025-09-16T09:30:05.254784",
     "status": "completed"
    },
    "tags": []
   },
   "outputs": [
    {
     "name": "stdout",
     "output_type": "stream",
     "text": [
      "Collecting osmnx\r\n",
      "  Downloading osmnx-2.0.6-py3-none-any.whl.metadata (4.9 kB)\r\n",
      "Collecting geopandas>=1.0.1 (from osmnx)\r\n",
      "  Downloading geopandas-1.1.1-py3-none-any.whl.metadata (2.3 kB)\r\n",
      "Requirement already satisfied: networkx>=2.5 in /usr/local/lib/python3.11/dist-packages (from osmnx) (3.5)\r\n",
      "Requirement already satisfied: numpy>=1.22 in /usr/local/lib/python3.11/dist-packages (from osmnx) (1.26.4)\r\n",
      "Requirement already satisfied: pandas>=1.4 in /usr/local/lib/python3.11/dist-packages (from osmnx) (2.2.3)\r\n",
      "Requirement already satisfied: requests>=2.27 in /usr/local/lib/python3.11/dist-packages (from osmnx) (2.32.4)\r\n",
      "Requirement already satisfied: shapely>=2.0 in /usr/local/lib/python3.11/dist-packages (from osmnx) (2.1.1)\r\n",
      "Requirement already satisfied: pyogrio>=0.7.2 in /usr/local/lib/python3.11/dist-packages (from geopandas>=1.0.1->osmnx) (0.11.0)\r\n",
      "Requirement already satisfied: packaging in /usr/local/lib/python3.11/dist-packages (from geopandas>=1.0.1->osmnx) (25.0)\r\n",
      "Requirement already satisfied: pyproj>=3.5.0 in /usr/local/lib/python3.11/dist-packages (from geopandas>=1.0.1->osmnx) (3.7.1)\r\n",
      "Requirement already satisfied: mkl_fft in /usr/local/lib/python3.11/dist-packages (from numpy>=1.22->osmnx) (1.3.8)\r\n",
      "Requirement already satisfied: mkl_random in /usr/local/lib/python3.11/dist-packages (from numpy>=1.22->osmnx) (1.2.4)\r\n",
      "Requirement already satisfied: mkl_umath in /usr/local/lib/python3.11/dist-packages (from numpy>=1.22->osmnx) (0.1.1)\r\n",
      "Requirement already satisfied: mkl in /usr/local/lib/python3.11/dist-packages (from numpy>=1.22->osmnx) (2025.2.0)\r\n",
      "Requirement already satisfied: tbb4py in /usr/local/lib/python3.11/dist-packages (from numpy>=1.22->osmnx) (2022.2.0)\r\n",
      "Requirement already satisfied: mkl-service in /usr/local/lib/python3.11/dist-packages (from numpy>=1.22->osmnx) (2.4.1)\r\n",
      "Requirement already satisfied: python-dateutil>=2.8.2 in /usr/local/lib/python3.11/dist-packages (from pandas>=1.4->osmnx) (2.9.0.post0)\r\n",
      "Requirement already satisfied: pytz>=2020.1 in /usr/local/lib/python3.11/dist-packages (from pandas>=1.4->osmnx) (2025.2)\r\n",
      "Requirement already satisfied: tzdata>=2022.7 in /usr/local/lib/python3.11/dist-packages (from pandas>=1.4->osmnx) (2025.2)\r\n",
      "Requirement already satisfied: charset_normalizer<4,>=2 in /usr/local/lib/python3.11/dist-packages (from requests>=2.27->osmnx) (3.4.2)\r\n",
      "Requirement already satisfied: idna<4,>=2.5 in /usr/local/lib/python3.11/dist-packages (from requests>=2.27->osmnx) (3.10)\r\n",
      "Requirement already satisfied: urllib3<3,>=1.21.1 in /usr/local/lib/python3.11/dist-packages (from requests>=2.27->osmnx) (2.5.0)\r\n",
      "Requirement already satisfied: certifi>=2017.4.17 in /usr/local/lib/python3.11/dist-packages (from requests>=2.27->osmnx) (2025.6.15)\r\n",
      "Requirement already satisfied: six>=1.5 in /usr/local/lib/python3.11/dist-packages (from python-dateutil>=2.8.2->pandas>=1.4->osmnx) (1.17.0)\r\n",
      "Requirement already satisfied: intel-openmp<2026,>=2024 in /usr/local/lib/python3.11/dist-packages (from mkl->numpy>=1.22->osmnx) (2024.2.0)\r\n",
      "Requirement already satisfied: tbb==2022.* in /usr/local/lib/python3.11/dist-packages (from mkl->numpy>=1.22->osmnx) (2022.2.0)\r\n",
      "Requirement already satisfied: tcmlib==1.* in /usr/local/lib/python3.11/dist-packages (from tbb==2022.*->mkl->numpy>=1.22->osmnx) (1.4.0)\r\n",
      "Requirement already satisfied: intel-cmplr-lib-rt in /usr/local/lib/python3.11/dist-packages (from mkl_umath->numpy>=1.22->osmnx) (2024.2.0)\r\n",
      "Requirement already satisfied: intel-cmplr-lib-ur==2024.2.0 in /usr/local/lib/python3.11/dist-packages (from intel-openmp<2026,>=2024->mkl->numpy>=1.22->osmnx) (2024.2.0)\r\n",
      "Downloading osmnx-2.0.6-py3-none-any.whl (101 kB)\r\n",
      "\u001b[2K   \u001b[90m━━━━━━━━━━━━━━━━━━━━━━━━━━━━━━━━━━━━━━━━\u001b[0m \u001b[32m101.5/101.5 kB\u001b[0m \u001b[31m2.5 MB/s\u001b[0m eta \u001b[36m0:00:00\u001b[0m\r\n",
      "\u001b[?25hDownloading geopandas-1.1.1-py3-none-any.whl (338 kB)\r\n",
      "\u001b[2K   \u001b[90m━━━━━━━━━━━━━━━━━━━━━━━━━━━━━━━━━━━━━━━━\u001b[0m \u001b[32m338.4/338.4 kB\u001b[0m \u001b[31m10.1 MB/s\u001b[0m eta \u001b[36m0:00:00\u001b[0m\r\n",
      "\u001b[?25hInstalling collected packages: geopandas, osmnx\r\n",
      "  Attempting uninstall: geopandas\r\n",
      "    Found existing installation: geopandas 0.14.4\r\n",
      "    Uninstalling geopandas-0.14.4:\r\n",
      "      Successfully uninstalled geopandas-0.14.4\r\n",
      "\u001b[31mERROR: pip's dependency resolver does not currently take into account all the packages that are installed. This behaviour is the source of the following dependency conflicts.\r\n",
      "bigframes 2.8.0 requires google-cloud-bigquery-storage<3.0.0,>=2.30.0, which is not installed.\r\n",
      "bigframes 2.8.0 requires google-cloud-bigquery[bqstorage,pandas]>=3.31.0, but you have google-cloud-bigquery 3.25.0 which is incompatible.\r\n",
      "bigframes 2.8.0 requires rich<14,>=12.4.4, but you have rich 14.0.0 which is incompatible.\u001b[0m\u001b[31m\r\n",
      "\u001b[0mSuccessfully installed geopandas-1.1.1 osmnx-2.0.6\r\n",
      "Requirement already satisfied: geopandas in /usr/local/lib/python3.11/dist-packages (1.1.1)\r\n",
      "Requirement already satisfied: numpy>=1.24 in /usr/local/lib/python3.11/dist-packages (from geopandas) (1.26.4)\r\n",
      "Requirement already satisfied: pyogrio>=0.7.2 in /usr/local/lib/python3.11/dist-packages (from geopandas) (0.11.0)\r\n",
      "Requirement already satisfied: packaging in /usr/local/lib/python3.11/dist-packages (from geopandas) (25.0)\r\n",
      "Requirement already satisfied: pandas>=2.0.0 in /usr/local/lib/python3.11/dist-packages (from geopandas) (2.2.3)\r\n",
      "Requirement already satisfied: pyproj>=3.5.0 in /usr/local/lib/python3.11/dist-packages (from geopandas) (3.7.1)\r\n",
      "Requirement already satisfied: shapely>=2.0.0 in /usr/local/lib/python3.11/dist-packages (from geopandas) (2.1.1)\r\n",
      "Requirement already satisfied: mkl_fft in /usr/local/lib/python3.11/dist-packages (from numpy>=1.24->geopandas) (1.3.8)\r\n",
      "Requirement already satisfied: mkl_random in /usr/local/lib/python3.11/dist-packages (from numpy>=1.24->geopandas) (1.2.4)\r\n",
      "Requirement already satisfied: mkl_umath in /usr/local/lib/python3.11/dist-packages (from numpy>=1.24->geopandas) (0.1.1)\r\n",
      "Requirement already satisfied: mkl in /usr/local/lib/python3.11/dist-packages (from numpy>=1.24->geopandas) (2025.2.0)\r\n",
      "Requirement already satisfied: tbb4py in /usr/local/lib/python3.11/dist-packages (from numpy>=1.24->geopandas) (2022.2.0)\r\n",
      "Requirement already satisfied: mkl-service in /usr/local/lib/python3.11/dist-packages (from numpy>=1.24->geopandas) (2.4.1)\r\n",
      "Requirement already satisfied: python-dateutil>=2.8.2 in /usr/local/lib/python3.11/dist-packages (from pandas>=2.0.0->geopandas) (2.9.0.post0)\r\n",
      "Requirement already satisfied: pytz>=2020.1 in /usr/local/lib/python3.11/dist-packages (from pandas>=2.0.0->geopandas) (2025.2)\r\n",
      "Requirement already satisfied: tzdata>=2022.7 in /usr/local/lib/python3.11/dist-packages (from pandas>=2.0.0->geopandas) (2025.2)\r\n",
      "Requirement already satisfied: certifi in /usr/local/lib/python3.11/dist-packages (from pyogrio>=0.7.2->geopandas) (2025.6.15)\r\n",
      "Requirement already satisfied: six>=1.5 in /usr/local/lib/python3.11/dist-packages (from python-dateutil>=2.8.2->pandas>=2.0.0->geopandas) (1.17.0)\r\n",
      "Requirement already satisfied: intel-openmp<2026,>=2024 in /usr/local/lib/python3.11/dist-packages (from mkl->numpy>=1.24->geopandas) (2024.2.0)\r\n",
      "Requirement already satisfied: tbb==2022.* in /usr/local/lib/python3.11/dist-packages (from mkl->numpy>=1.24->geopandas) (2022.2.0)\r\n",
      "Requirement already satisfied: tcmlib==1.* in /usr/local/lib/python3.11/dist-packages (from tbb==2022.*->mkl->numpy>=1.24->geopandas) (1.4.0)\r\n",
      "Requirement already satisfied: intel-cmplr-lib-rt in /usr/local/lib/python3.11/dist-packages (from mkl_umath->numpy>=1.24->geopandas) (2024.2.0)\r\n",
      "Requirement already satisfied: intel-cmplr-lib-ur==2024.2.0 in /usr/local/lib/python3.11/dist-packages (from intel-openmp<2026,>=2024->mkl->numpy>=1.24->geopandas) (2024.2.0)\r\n",
      "Requirement already satisfied: pandas in /usr/local/lib/python3.11/dist-packages (2.2.3)\r\n",
      "Requirement already satisfied: numpy>=1.23.2 in /usr/local/lib/python3.11/dist-packages (from pandas) (1.26.4)\r\n",
      "Requirement already satisfied: python-dateutil>=2.8.2 in /usr/local/lib/python3.11/dist-packages (from pandas) (2.9.0.post0)\r\n",
      "Requirement already satisfied: pytz>=2020.1 in /usr/local/lib/python3.11/dist-packages (from pandas) (2025.2)\r\n",
      "Requirement already satisfied: tzdata>=2022.7 in /usr/local/lib/python3.11/dist-packages (from pandas) (2025.2)\r\n",
      "Requirement already satisfied: mkl_fft in /usr/local/lib/python3.11/dist-packages (from numpy>=1.23.2->pandas) (1.3.8)\r\n",
      "Requirement already satisfied: mkl_random in /usr/local/lib/python3.11/dist-packages (from numpy>=1.23.2->pandas) (1.2.4)\r\n",
      "Requirement already satisfied: mkl_umath in /usr/local/lib/python3.11/dist-packages (from numpy>=1.23.2->pandas) (0.1.1)\r\n",
      "Requirement already satisfied: mkl in /usr/local/lib/python3.11/dist-packages (from numpy>=1.23.2->pandas) (2025.2.0)\r\n",
      "Requirement already satisfied: tbb4py in /usr/local/lib/python3.11/dist-packages (from numpy>=1.23.2->pandas) (2022.2.0)\r\n",
      "Requirement already satisfied: mkl-service in /usr/local/lib/python3.11/dist-packages (from numpy>=1.23.2->pandas) (2.4.1)\r\n",
      "Requirement already satisfied: six>=1.5 in /usr/local/lib/python3.11/dist-packages (from python-dateutil>=2.8.2->pandas) (1.17.0)\r\n",
      "Requirement already satisfied: intel-openmp<2026,>=2024 in /usr/local/lib/python3.11/dist-packages (from mkl->numpy>=1.23.2->pandas) (2024.2.0)\r\n",
      "Requirement already satisfied: tbb==2022.* in /usr/local/lib/python3.11/dist-packages (from mkl->numpy>=1.23.2->pandas) (2022.2.0)\r\n",
      "Requirement already satisfied: tcmlib==1.* in /usr/local/lib/python3.11/dist-packages (from tbb==2022.*->mkl->numpy>=1.23.2->pandas) (1.4.0)\r\n",
      "Requirement already satisfied: intel-cmplr-lib-rt in /usr/local/lib/python3.11/dist-packages (from mkl_umath->numpy>=1.23.2->pandas) (2024.2.0)\r\n",
      "Requirement already satisfied: intel-cmplr-lib-ur==2024.2.0 in /usr/local/lib/python3.11/dist-packages (from intel-openmp<2026,>=2024->mkl->numpy>=1.23.2->pandas) (2024.2.0)\r\n",
      "Requirement already satisfied: matplotlib in /usr/local/lib/python3.11/dist-packages (3.7.2)\r\n",
      "Requirement already satisfied: contourpy>=1.0.1 in /usr/local/lib/python3.11/dist-packages (from matplotlib) (1.3.2)\r\n",
      "Requirement already satisfied: cycler>=0.10 in /usr/local/lib/python3.11/dist-packages (from matplotlib) (0.12.1)\r\n",
      "Requirement already satisfied: fonttools>=4.22.0 in /usr/local/lib/python3.11/dist-packages (from matplotlib) (4.58.4)\r\n",
      "Requirement already satisfied: kiwisolver>=1.0.1 in /usr/local/lib/python3.11/dist-packages (from matplotlib) (1.4.8)\r\n",
      "Requirement already satisfied: numpy>=1.20 in /usr/local/lib/python3.11/dist-packages (from matplotlib) (1.26.4)\r\n",
      "Requirement already satisfied: packaging>=20.0 in /usr/local/lib/python3.11/dist-packages (from matplotlib) (25.0)\r\n",
      "Requirement already satisfied: pillow>=6.2.0 in /usr/local/lib/python3.11/dist-packages (from matplotlib) (11.2.1)\r\n",
      "Requirement already satisfied: pyparsing<3.1,>=2.3.1 in /usr/local/lib/python3.11/dist-packages (from matplotlib) (3.0.9)\r\n",
      "Requirement already satisfied: python-dateutil>=2.7 in /usr/local/lib/python3.11/dist-packages (from matplotlib) (2.9.0.post0)\r\n",
      "Requirement already satisfied: mkl_fft in /usr/local/lib/python3.11/dist-packages (from numpy>=1.20->matplotlib) (1.3.8)\r\n",
      "Requirement already satisfied: mkl_random in /usr/local/lib/python3.11/dist-packages (from numpy>=1.20->matplotlib) (1.2.4)\r\n",
      "Requirement already satisfied: mkl_umath in /usr/local/lib/python3.11/dist-packages (from numpy>=1.20->matplotlib) (0.1.1)\r\n",
      "Requirement already satisfied: mkl in /usr/local/lib/python3.11/dist-packages (from numpy>=1.20->matplotlib) (2025.2.0)\r\n",
      "Requirement already satisfied: tbb4py in /usr/local/lib/python3.11/dist-packages (from numpy>=1.20->matplotlib) (2022.2.0)\r\n",
      "Requirement already satisfied: mkl-service in /usr/local/lib/python3.11/dist-packages (from numpy>=1.20->matplotlib) (2.4.1)\r\n",
      "Requirement already satisfied: six>=1.5 in /usr/local/lib/python3.11/dist-packages (from python-dateutil>=2.7->matplotlib) (1.17.0)\r\n",
      "Requirement already satisfied: intel-openmp<2026,>=2024 in /usr/local/lib/python3.11/dist-packages (from mkl->numpy>=1.20->matplotlib) (2024.2.0)\r\n",
      "Requirement already satisfied: tbb==2022.* in /usr/local/lib/python3.11/dist-packages (from mkl->numpy>=1.20->matplotlib) (2022.2.0)\r\n",
      "Requirement already satisfied: tcmlib==1.* in /usr/local/lib/python3.11/dist-packages (from tbb==2022.*->mkl->numpy>=1.20->matplotlib) (1.4.0)\r\n",
      "Requirement already satisfied: intel-cmplr-lib-rt in /usr/local/lib/python3.11/dist-packages (from mkl_umath->numpy>=1.20->matplotlib) (2024.2.0)\r\n",
      "Requirement already satisfied: intel-cmplr-lib-ur==2024.2.0 in /usr/local/lib/python3.11/dist-packages (from intel-openmp<2026,>=2024->mkl->numpy>=1.20->matplotlib) (2024.2.0)\r\n"
     ]
    }
   ],
   "source": [
    "!pip install osmnx\n",
    "!pip install geopandas\n",
    "!pip install pandas\n",
    "!pip install matplotlib"
   ]
  },
  {
   "cell_type": "code",
   "execution_count": 2,
   "id": "710b86d4",
   "metadata": {
    "_cell_guid": "b1076dfc-b9ad-4769-8c92-a6c4dae69d19",
    "_uuid": "8f2839f25d086af736a60e9eeb907d3b93b6e0e5",
    "execution": {
     "iopub.execute_input": "2025-09-16T09:30:27.353394Z",
     "iopub.status.busy": "2025-09-16T09:30:27.352993Z",
     "iopub.status.idle": "2025-09-16T09:45:55.893123Z",
     "shell.execute_reply": "2025-09-16T09:45:55.891881Z"
    },
    "papermill": {
     "duration": 928.549201,
     "end_time": "2025-09-16T09:45:55.895076",
     "exception": false,
     "start_time": "2025-09-16T09:30:27.345875",
     "status": "completed"
    },
    "tags": []
   },
   "outputs": [
    {
     "name": "stderr",
     "output_type": "stream",
     "text": [
      "/usr/local/lib/python3.11/dist-packages/osmnx/_overpass.py:271: UserWarning: This area is 291 times your configured Overpass max query area size. It will automatically be divided up into multiple sub-queries accordingly. This may take a long time.\n",
      "  multi_poly_proj = utils_geo._consolidate_subdivide_geometry(poly_proj)\n"
     ]
    }
   ],
   "source": [
    "import osmnx as ox\n",
    "import geopandas as gpd\n",
    "\n",
    "# 1. National boundary\n",
    "gdf = ox.geocode_to_gdf(\"Kenya\")  \n",
    "\n",
    "# 2. Counties (admin_level=4)\n",
    "counties = ox.features_from_place(\"Kenya\", {\"admin_level\": \"4\"})  \n",
    "\n",
    "# 3. Save both into one GeoPackage (with layers)\n",
    "gdf.to_file(\"kenya_admin.gpkg\", layer=\"country\", driver=\"GPKG\")\n",
    "counties.to_file(\"kenya_admin.gpkg\", layer=\"counties\", driver=\"GPKG\")\n"
   ]
  },
  {
   "cell_type": "markdown",
   "id": "622d8a27",
   "metadata": {
    "papermill": {
     "duration": 0.005497,
     "end_time": "2025-09-16T09:45:55.907147",
     "exception": false,
     "start_time": "2025-09-16T09:45:55.901650",
     "status": "completed"
    },
    "tags": []
   },
   "source": [
    "# Later, load without OSMnx"
   ]
  },
  {
   "cell_type": "code",
   "execution_count": 3,
   "id": "1ec38ad9",
   "metadata": {
    "execution": {
     "iopub.execute_input": "2025-09-16T09:45:55.919938Z",
     "iopub.status.busy": "2025-09-16T09:45:55.919342Z",
     "iopub.status.idle": "2025-09-16T09:45:56.781575Z",
     "shell.execute_reply": "2025-09-16T09:45:56.780438Z"
    },
    "papermill": {
     "duration": 0.87139,
     "end_time": "2025-09-16T09:45:56.784077",
     "exception": false,
     "start_time": "2025-09-16T09:45:55.912687",
     "status": "completed"
    },
    "tags": []
   },
   "outputs": [],
   "source": [
    "import geopandas as gpd\n",
    "\n",
    "# Load from GeoPackage\n",
    "gdf = gpd.read_file(\"kenya_admin.gpkg\", layer=\"country\")\n",
    "counties = gpd.read_file(\"kenya_admin.gpkg\", layer=\"counties\")"
   ]
  },
  {
   "cell_type": "markdown",
   "id": "7a2902a1",
   "metadata": {
    "papermill": {
     "duration": 0.005873,
     "end_time": "2025-09-16T09:45:56.795898",
     "exception": false,
     "start_time": "2025-09-16T09:45:56.790025",
     "status": "completed"
    },
    "tags": []
   },
   "source": [
    "# If you prefer separate files:"
   ]
  },
  {
   "cell_type": "code",
   "execution_count": 4,
   "id": "99476206",
   "metadata": {
    "execution": {
     "iopub.execute_input": "2025-09-16T09:45:56.810605Z",
     "iopub.status.busy": "2025-09-16T09:45:56.810217Z",
     "iopub.status.idle": "2025-09-16T09:46:13.282787Z",
     "shell.execute_reply": "2025-09-16T09:46:13.281658Z"
    },
    "papermill": {
     "duration": 16.482946,
     "end_time": "2025-09-16T09:46:13.284855",
     "exception": false,
     "start_time": "2025-09-16T09:45:56.801909",
     "status": "completed"
    },
    "tags": []
   },
   "outputs": [],
   "source": [
    "gdf.to_file(\"kenya_boundary.geojson\", driver=\"GeoJSON\")\n",
    "counties.to_file(\"kenya_counties.geojson\", driver=\"GeoJSON\")\n",
    "\n",
    "# Reload\n",
    "gdf = gpd.read_file(\"kenya_boundary.geojson\")\n",
    "counties = gpd.read_file(\"kenya_counties.geojson\")\n"
   ]
  },
  {
   "cell_type": "markdown",
   "id": "72c1e5a2",
   "metadata": {
    "papermill": {
     "duration": 0.005752,
     "end_time": "2025-09-16T09:46:13.296779",
     "exception": false,
     "start_time": "2025-09-16T09:46:13.291027",
     "status": "completed"
    },
    "tags": []
   },
   "source": [
    "gdf_admin will therefore contain:\n",
    "\n",
    "admin_level=2 (country boundary)\n",
    "\n",
    "admin_level=4 (counties)\n",
    "\n",
    "admin_level=5–8+ (sub-counties, wards, locations, villages, etc., depending on OSM coverage)\n",
    "\n",
    "🔹 Why it’s useful\n",
    "\n",
    "You get multiple levels of admin boundaries in one go.\n",
    "→ This is handy if you want to later choose: “show counties”, “show constituencies”, or “show wards”, without re-querying OSM.\n",
    "\n",
    "You can filter later:\n",
    "\n",
    "\n",
    "counties = gdf_admin[gdf_admin[\"admin_level\"] == \"4\"]\n",
    "\n",
    "wards = gdf_admin[gdf_admin[\"admin_level\"] == \"7\"]"
   ]
  },
  {
   "cell_type": "code",
   "execution_count": 5,
   "id": "96c2c8f4",
   "metadata": {
    "execution": {
     "iopub.execute_input": "2025-09-16T09:46:13.309596Z",
     "iopub.status.busy": "2025-09-16T09:46:13.309241Z",
     "iopub.status.idle": "2025-09-16T10:00:23.281042Z",
     "shell.execute_reply": "2025-09-16T10:00:23.279406Z"
    },
    "papermill": {
     "duration": 849.981476,
     "end_time": "2025-09-16T10:00:23.284066",
     "exception": false,
     "start_time": "2025-09-16T09:46:13.302590",
     "status": "completed"
    },
    "tags": []
   },
   "outputs": [
    {
     "name": "stderr",
     "output_type": "stream",
     "text": [
      "/usr/local/lib/python3.11/dist-packages/osmnx/_overpass.py:271: UserWarning: This area is 291 times your configured Overpass max query area size. It will automatically be divided up into multiple sub-queries accordingly. This may take a long time.\n",
      "  multi_poly_proj = utils_geo._consolidate_subdivide_geometry(poly_proj)\n"
     ]
    }
   ],
   "source": [
    "kenya_poly = gdf.iloc[0].geometry\n",
    "\n",
    "tags = {\"boundary\": \"administrative\"}\n",
    "gdf_admin = ox.features_from_polygon(kenya_poly, tags)"
   ]
  },
  {
   "cell_type": "code",
   "execution_count": 6,
   "id": "31cc2170",
   "metadata": {
    "execution": {
     "iopub.execute_input": "2025-09-16T10:00:23.298718Z",
     "iopub.status.busy": "2025-09-16T10:00:23.297131Z",
     "iopub.status.idle": "2025-09-16T10:00:23.557972Z",
     "shell.execute_reply": "2025-09-16T10:00:23.556735Z"
    },
    "papermill": {
     "duration": 0.2696,
     "end_time": "2025-09-16T10:00:23.559907",
     "exception": false,
     "start_time": "2025-09-16T10:00:23.290307",
     "status": "completed"
    },
    "tags": []
   },
   "outputs": [
    {
     "data": {
      "text/html": [
       "<div>\n",
       "<style scoped>\n",
       "    .dataframe tbody tr th:only-of-type {\n",
       "        vertical-align: middle;\n",
       "    }\n",
       "\n",
       "    .dataframe tbody tr th {\n",
       "        vertical-align: top;\n",
       "    }\n",
       "\n",
       "    .dataframe thead th {\n",
       "        text-align: right;\n",
       "    }\n",
       "</style>\n",
       "<table border=\"1\" class=\"dataframe\">\n",
       "  <thead>\n",
       "    <tr style=\"text-align: right;\">\n",
       "      <th></th>\n",
       "      <th></th>\n",
       "      <th>geometry</th>\n",
       "      <th>admin_level</th>\n",
       "      <th>border_type</th>\n",
       "      <th>boundary</th>\n",
       "      <th>name</th>\n",
       "      <th>source</th>\n",
       "      <th>left:country</th>\n",
       "      <th>right:country</th>\n",
       "      <th>right:province</th>\n",
       "      <th>wdb:source</th>\n",
       "      <th>...</th>\n",
       "      <th>population:2010:source</th>\n",
       "      <th>source_ref</th>\n",
       "      <th>disused:id</th>\n",
       "      <th>households</th>\n",
       "      <th>households:2002</th>\n",
       "      <th>households:2002:date</th>\n",
       "      <th>households:date</th>\n",
       "      <th>population:2002</th>\n",
       "      <th>population:2002:date</th>\n",
       "      <th>source:population:2002</th>\n",
       "    </tr>\n",
       "    <tr>\n",
       "      <th>element</th>\n",
       "      <th>id</th>\n",
       "      <th></th>\n",
       "      <th></th>\n",
       "      <th></th>\n",
       "      <th></th>\n",
       "      <th></th>\n",
       "      <th></th>\n",
       "      <th></th>\n",
       "      <th></th>\n",
       "      <th></th>\n",
       "      <th></th>\n",
       "      <th></th>\n",
       "      <th></th>\n",
       "      <th></th>\n",
       "      <th></th>\n",
       "      <th></th>\n",
       "      <th></th>\n",
       "      <th></th>\n",
       "      <th></th>\n",
       "      <th></th>\n",
       "      <th></th>\n",
       "      <th></th>\n",
       "    </tr>\n",
       "  </thead>\n",
       "  <tbody>\n",
       "    <tr>\n",
       "      <th rowspan=\"5\" valign=\"top\">relation</th>\n",
       "      <th>192796</th>\n",
       "      <td>POLYGON ((29.57788 -1.12766, 29.57784 -1.12763...</td>\n",
       "      <td>2</td>\n",
       "      <td>NaN</td>\n",
       "      <td>administrative</td>\n",
       "      <td>Uganda</td>\n",
       "      <td>NaN</td>\n",
       "      <td>NaN</td>\n",
       "      <td>NaN</td>\n",
       "      <td>NaN</td>\n",
       "      <td>NaN</td>\n",
       "      <td>...</td>\n",
       "      <td>NaN</td>\n",
       "      <td>NaN</td>\n",
       "      <td>NaN</td>\n",
       "      <td>NaN</td>\n",
       "      <td>NaN</td>\n",
       "      <td>NaN</td>\n",
       "      <td>NaN</td>\n",
       "      <td>NaN</td>\n",
       "      <td>NaN</td>\n",
       "      <td>NaN</td>\n",
       "    </tr>\n",
       "    <tr>\n",
       "      <th>192796</th>\n",
       "      <td>POLYGON ((29.57788 -1.12766, 29.57784 -1.12763...</td>\n",
       "      <td>2</td>\n",
       "      <td>NaN</td>\n",
       "      <td>administrative</td>\n",
       "      <td>Uganda</td>\n",
       "      <td>NaN</td>\n",
       "      <td>NaN</td>\n",
       "      <td>NaN</td>\n",
       "      <td>NaN</td>\n",
       "      <td>NaN</td>\n",
       "      <td>...</td>\n",
       "      <td>NaN</td>\n",
       "      <td>NaN</td>\n",
       "      <td>NaN</td>\n",
       "      <td>NaN</td>\n",
       "      <td>NaN</td>\n",
       "      <td>NaN</td>\n",
       "      <td>NaN</td>\n",
       "      <td>NaN</td>\n",
       "      <td>NaN</td>\n",
       "      <td>NaN</td>\n",
       "    </tr>\n",
       "    <tr>\n",
       "      <th>192796</th>\n",
       "      <td>POLYGON ((29.57788 -1.12766, 29.57784 -1.12763...</td>\n",
       "      <td>2</td>\n",
       "      <td>NaN</td>\n",
       "      <td>administrative</td>\n",
       "      <td>Uganda</td>\n",
       "      <td>NaN</td>\n",
       "      <td>NaN</td>\n",
       "      <td>NaN</td>\n",
       "      <td>NaN</td>\n",
       "      <td>NaN</td>\n",
       "      <td>...</td>\n",
       "      <td>NaN</td>\n",
       "      <td>NaN</td>\n",
       "      <td>NaN</td>\n",
       "      <td>NaN</td>\n",
       "      <td>NaN</td>\n",
       "      <td>NaN</td>\n",
       "      <td>NaN</td>\n",
       "      <td>NaN</td>\n",
       "      <td>NaN</td>\n",
       "      <td>NaN</td>\n",
       "    </tr>\n",
       "    <tr>\n",
       "      <th>192796</th>\n",
       "      <td>POLYGON ((29.57788 -1.12766, 29.57784 -1.12763...</td>\n",
       "      <td>2</td>\n",
       "      <td>NaN</td>\n",
       "      <td>administrative</td>\n",
       "      <td>Uganda</td>\n",
       "      <td>NaN</td>\n",
       "      <td>NaN</td>\n",
       "      <td>NaN</td>\n",
       "      <td>NaN</td>\n",
       "      <td>NaN</td>\n",
       "      <td>...</td>\n",
       "      <td>NaN</td>\n",
       "      <td>NaN</td>\n",
       "      <td>NaN</td>\n",
       "      <td>NaN</td>\n",
       "      <td>NaN</td>\n",
       "      <td>NaN</td>\n",
       "      <td>NaN</td>\n",
       "      <td>NaN</td>\n",
       "      <td>NaN</td>\n",
       "      <td>NaN</td>\n",
       "    </tr>\n",
       "    <tr>\n",
       "      <th>192796</th>\n",
       "      <td>POLYGON ((29.57788 -1.12766, 29.57784 -1.12763...</td>\n",
       "      <td>2</td>\n",
       "      <td>NaN</td>\n",
       "      <td>administrative</td>\n",
       "      <td>Uganda</td>\n",
       "      <td>NaN</td>\n",
       "      <td>NaN</td>\n",
       "      <td>NaN</td>\n",
       "      <td>NaN</td>\n",
       "      <td>NaN</td>\n",
       "      <td>...</td>\n",
       "      <td>NaN</td>\n",
       "      <td>NaN</td>\n",
       "      <td>NaN</td>\n",
       "      <td>NaN</td>\n",
       "      <td>NaN</td>\n",
       "      <td>NaN</td>\n",
       "      <td>NaN</td>\n",
       "      <td>NaN</td>\n",
       "      <td>NaN</td>\n",
       "      <td>NaN</td>\n",
       "    </tr>\n",
       "    <tr>\n",
       "      <th>...</th>\n",
       "      <th>...</th>\n",
       "      <td>...</td>\n",
       "      <td>...</td>\n",
       "      <td>...</td>\n",
       "      <td>...</td>\n",
       "      <td>...</td>\n",
       "      <td>...</td>\n",
       "      <td>...</td>\n",
       "      <td>...</td>\n",
       "      <td>...</td>\n",
       "      <td>...</td>\n",
       "      <td>...</td>\n",
       "      <td>...</td>\n",
       "      <td>...</td>\n",
       "      <td>...</td>\n",
       "      <td>...</td>\n",
       "      <td>...</td>\n",
       "      <td>...</td>\n",
       "      <td>...</td>\n",
       "      <td>...</td>\n",
       "      <td>...</td>\n",
       "      <td>...</td>\n",
       "    </tr>\n",
       "    <tr>\n",
       "      <th rowspan=\"5\" valign=\"top\">way</th>\n",
       "      <th>1428216383</th>\n",
       "      <td>LINESTRING (34.68258 0.59621, 34.68276 0.59662...</td>\n",
       "      <td>8</td>\n",
       "      <td>NaN</td>\n",
       "      <td>administrative</td>\n",
       "      <td>NaN</td>\n",
       "      <td>NaN</td>\n",
       "      <td>NaN</td>\n",
       "      <td>NaN</td>\n",
       "      <td>NaN</td>\n",
       "      <td>NaN</td>\n",
       "      <td>...</td>\n",
       "      <td>NaN</td>\n",
       "      <td>NaN</td>\n",
       "      <td>NaN</td>\n",
       "      <td>NaN</td>\n",
       "      <td>NaN</td>\n",
       "      <td>NaN</td>\n",
       "      <td>NaN</td>\n",
       "      <td>NaN</td>\n",
       "      <td>NaN</td>\n",
       "      <td>NaN</td>\n",
       "    </tr>\n",
       "    <tr>\n",
       "      <th>1428216383</th>\n",
       "      <td>LINESTRING (34.68258 0.59621, 34.68276 0.59662...</td>\n",
       "      <td>8</td>\n",
       "      <td>NaN</td>\n",
       "      <td>administrative</td>\n",
       "      <td>NaN</td>\n",
       "      <td>NaN</td>\n",
       "      <td>NaN</td>\n",
       "      <td>NaN</td>\n",
       "      <td>NaN</td>\n",
       "      <td>NaN</td>\n",
       "      <td>...</td>\n",
       "      <td>NaN</td>\n",
       "      <td>NaN</td>\n",
       "      <td>NaN</td>\n",
       "      <td>NaN</td>\n",
       "      <td>NaN</td>\n",
       "      <td>NaN</td>\n",
       "      <td>NaN</td>\n",
       "      <td>NaN</td>\n",
       "      <td>NaN</td>\n",
       "      <td>NaN</td>\n",
       "    </tr>\n",
       "    <tr>\n",
       "      <th>1428216384</th>\n",
       "      <td>LINESTRING (34.69373 0.60546, 34.69374 0.60541...</td>\n",
       "      <td>8</td>\n",
       "      <td>NaN</td>\n",
       "      <td>administrative</td>\n",
       "      <td>NaN</td>\n",
       "      <td>NaN</td>\n",
       "      <td>NaN</td>\n",
       "      <td>NaN</td>\n",
       "      <td>NaN</td>\n",
       "      <td>NaN</td>\n",
       "      <td>...</td>\n",
       "      <td>NaN</td>\n",
       "      <td>NaN</td>\n",
       "      <td>NaN</td>\n",
       "      <td>NaN</td>\n",
       "      <td>NaN</td>\n",
       "      <td>NaN</td>\n",
       "      <td>NaN</td>\n",
       "      <td>NaN</td>\n",
       "      <td>NaN</td>\n",
       "      <td>NaN</td>\n",
       "    </tr>\n",
       "    <tr>\n",
       "      <th>1428217671</th>\n",
       "      <td>LINESTRING (34.6395 0.60547, 34.63955 0.60481,...</td>\n",
       "      <td>8</td>\n",
       "      <td>NaN</td>\n",
       "      <td>administrative</td>\n",
       "      <td>NaN</td>\n",
       "      <td>NaN</td>\n",
       "      <td>NaN</td>\n",
       "      <td>NaN</td>\n",
       "      <td>NaN</td>\n",
       "      <td>NaN</td>\n",
       "      <td>...</td>\n",
       "      <td>NaN</td>\n",
       "      <td>NaN</td>\n",
       "      <td>NaN</td>\n",
       "      <td>NaN</td>\n",
       "      <td>NaN</td>\n",
       "      <td>NaN</td>\n",
       "      <td>NaN</td>\n",
       "      <td>NaN</td>\n",
       "      <td>NaN</td>\n",
       "      <td>NaN</td>\n",
       "    </tr>\n",
       "    <tr>\n",
       "      <th>1428218317</th>\n",
       "      <td>LINESTRING (34.42852 0.57446, 34.42787 0.57431...</td>\n",
       "      <td>8</td>\n",
       "      <td>NaN</td>\n",
       "      <td>administrative</td>\n",
       "      <td>NaN</td>\n",
       "      <td>NaN</td>\n",
       "      <td>NaN</td>\n",
       "      <td>NaN</td>\n",
       "      <td>NaN</td>\n",
       "      <td>NaN</td>\n",
       "      <td>...</td>\n",
       "      <td>NaN</td>\n",
       "      <td>NaN</td>\n",
       "      <td>NaN</td>\n",
       "      <td>NaN</td>\n",
       "      <td>NaN</td>\n",
       "      <td>NaN</td>\n",
       "      <td>NaN</td>\n",
       "      <td>NaN</td>\n",
       "      <td>NaN</td>\n",
       "      <td>NaN</td>\n",
       "    </tr>\n",
       "  </tbody>\n",
       "</table>\n",
       "<p>39047 rows × 566 columns</p>\n",
       "</div>"
      ],
      "text/plain": [
       "                                                              geometry  \\\n",
       "element  id                                                              \n",
       "relation 192796      POLYGON ((29.57788 -1.12766, 29.57784 -1.12763...   \n",
       "         192796      POLYGON ((29.57788 -1.12766, 29.57784 -1.12763...   \n",
       "         192796      POLYGON ((29.57788 -1.12766, 29.57784 -1.12763...   \n",
       "         192796      POLYGON ((29.57788 -1.12766, 29.57784 -1.12763...   \n",
       "         192796      POLYGON ((29.57788 -1.12766, 29.57784 -1.12763...   \n",
       "...                                                                ...   \n",
       "way      1428216383  LINESTRING (34.68258 0.59621, 34.68276 0.59662...   \n",
       "         1428216383  LINESTRING (34.68258 0.59621, 34.68276 0.59662...   \n",
       "         1428216384  LINESTRING (34.69373 0.60546, 34.69374 0.60541...   \n",
       "         1428217671  LINESTRING (34.6395 0.60547, 34.63955 0.60481,...   \n",
       "         1428218317  LINESTRING (34.42852 0.57446, 34.42787 0.57431...   \n",
       "\n",
       "                    admin_level border_type        boundary    name source  \\\n",
       "element  id                                                                  \n",
       "relation 192796               2         NaN  administrative  Uganda    NaN   \n",
       "         192796               2         NaN  administrative  Uganda    NaN   \n",
       "         192796               2         NaN  administrative  Uganda    NaN   \n",
       "         192796               2         NaN  administrative  Uganda    NaN   \n",
       "         192796               2         NaN  administrative  Uganda    NaN   \n",
       "...                         ...         ...             ...     ...    ...   \n",
       "way      1428216383           8         NaN  administrative     NaN    NaN   \n",
       "         1428216383           8         NaN  administrative     NaN    NaN   \n",
       "         1428216384           8         NaN  administrative     NaN    NaN   \n",
       "         1428217671           8         NaN  administrative     NaN    NaN   \n",
       "         1428218317           8         NaN  administrative     NaN    NaN   \n",
       "\n",
       "                    left:country right:country right:province wdb:source  ...  \\\n",
       "element  id                                                               ...   \n",
       "relation 192796              NaN           NaN            NaN        NaN  ...   \n",
       "         192796              NaN           NaN            NaN        NaN  ...   \n",
       "         192796              NaN           NaN            NaN        NaN  ...   \n",
       "         192796              NaN           NaN            NaN        NaN  ...   \n",
       "         192796              NaN           NaN            NaN        NaN  ...   \n",
       "...                          ...           ...            ...        ...  ...   \n",
       "way      1428216383          NaN           NaN            NaN        NaN  ...   \n",
       "         1428216383          NaN           NaN            NaN        NaN  ...   \n",
       "         1428216384          NaN           NaN            NaN        NaN  ...   \n",
       "         1428217671          NaN           NaN            NaN        NaN  ...   \n",
       "         1428218317          NaN           NaN            NaN        NaN  ...   \n",
       "\n",
       "                    population:2010:source source_ref disused:id households  \\\n",
       "element  id                                                                   \n",
       "relation 192796                        NaN        NaN        NaN        NaN   \n",
       "         192796                        NaN        NaN        NaN        NaN   \n",
       "         192796                        NaN        NaN        NaN        NaN   \n",
       "         192796                        NaN        NaN        NaN        NaN   \n",
       "         192796                        NaN        NaN        NaN        NaN   \n",
       "...                                    ...        ...        ...        ...   \n",
       "way      1428216383                    NaN        NaN        NaN        NaN   \n",
       "         1428216383                    NaN        NaN        NaN        NaN   \n",
       "         1428216384                    NaN        NaN        NaN        NaN   \n",
       "         1428217671                    NaN        NaN        NaN        NaN   \n",
       "         1428218317                    NaN        NaN        NaN        NaN   \n",
       "\n",
       "                    households:2002 households:2002:date households:date  \\\n",
       "element  id                                                                \n",
       "relation 192796                 NaN                  NaN             NaN   \n",
       "         192796                 NaN                  NaN             NaN   \n",
       "         192796                 NaN                  NaN             NaN   \n",
       "         192796                 NaN                  NaN             NaN   \n",
       "         192796                 NaN                  NaN             NaN   \n",
       "...                             ...                  ...             ...   \n",
       "way      1428216383             NaN                  NaN             NaN   \n",
       "         1428216383             NaN                  NaN             NaN   \n",
       "         1428216384             NaN                  NaN             NaN   \n",
       "         1428217671             NaN                  NaN             NaN   \n",
       "         1428218317             NaN                  NaN             NaN   \n",
       "\n",
       "                    population:2002 population:2002:date  \\\n",
       "element  id                                                \n",
       "relation 192796                 NaN                  NaN   \n",
       "         192796                 NaN                  NaN   \n",
       "         192796                 NaN                  NaN   \n",
       "         192796                 NaN                  NaN   \n",
       "         192796                 NaN                  NaN   \n",
       "...                             ...                  ...   \n",
       "way      1428216383             NaN                  NaN   \n",
       "         1428216383             NaN                  NaN   \n",
       "         1428216384             NaN                  NaN   \n",
       "         1428217671             NaN                  NaN   \n",
       "         1428218317             NaN                  NaN   \n",
       "\n",
       "                    source:population:2002  \n",
       "element  id                                 \n",
       "relation 192796                        NaN  \n",
       "         192796                        NaN  \n",
       "         192796                        NaN  \n",
       "         192796                        NaN  \n",
       "         192796                        NaN  \n",
       "...                                    ...  \n",
       "way      1428216383                    NaN  \n",
       "         1428216383                    NaN  \n",
       "         1428216384                    NaN  \n",
       "         1428217671                    NaN  \n",
       "         1428218317                    NaN  \n",
       "\n",
       "[39047 rows x 566 columns]"
      ]
     },
     "execution_count": 6,
     "metadata": {},
     "output_type": "execute_result"
    }
   ],
   "source": [
    "gdf_admin"
   ]
  },
  {
   "cell_type": "code",
   "execution_count": 7,
   "id": "98545e42",
   "metadata": {
    "execution": {
     "iopub.execute_input": "2025-09-16T10:00:23.574876Z",
     "iopub.status.busy": "2025-09-16T10:00:23.574510Z",
     "iopub.status.idle": "2025-09-16T10:00:23.581834Z",
     "shell.execute_reply": "2025-09-16T10:00:23.580352Z"
    },
    "papermill": {
     "duration": 0.017009,
     "end_time": "2025-09-16T10:00:23.583635",
     "exception": false,
     "start_time": "2025-09-16T10:00:23.566626",
     "status": "completed"
    },
    "tags": []
   },
   "outputs": [
    {
     "name": "stdout",
     "output_type": "stream",
     "text": [
      "['geometry', 'admin_level', 'border_type', 'boundary', 'name', 'source', 'left:country', 'right:country', 'right:province', 'wdb:source', 'disputed_by', 'name:ar', 'alt_name', 'name:ru', 'name:uk', 'waterway', 'name:en', 'name:fr', 'right:district', 'left:district', 'left:province', 'right:state', 'right:region', 'layer', 'admin_type:UG', 'note', 'name:de', 'fixme', 'maritime', 'name:ca', 'wikidata', 'wikipedia', 'attribution', 'source:date', 'left:state', 'natural', 'name:am', 'name:bg', 'name:br', 'name:cs', 'name:da', 'name:eo', 'name:es', 'name:et', 'name:he', 'name:hi', 'name:hr', 'name:hu', 'name:is', 'name:it', 'name:ja', 'name:jv', 'name:ko', 'name:ku', 'name:lt', 'name:nl', 'name:no', 'name:pl', 'name:pt', 'name:sl', 'name:sw', 'name:ta', 'name:ur', 'name:zh', 'name:azb', 'name:el', 'name:eu', 'name:grc', 'name:ug', 'name:ti', 'name:sr', 'name:om', 'FIXME', 'alt_name:ar', 'alt_name:en', 'place', 'name:aa', 'name:so', 'surface', 'landuse', 'website', 'description', 'name:wal', 'name:af', 'name:arc', 'name:pa', 'disputed', 'admin_type:KE', 'political_division', 'type', 'ISO3166-1', 'ISO3166-1:alpha2', 'ISO3166-1:alpha3', 'ISO3166-1:numeric', 'driving_side', 'flag', 'name:ace', 'name:als', 'name:an', 'name:ang', 'name:arz', 'name:ast', 'name:az', 'name:ba', 'name:bat-smg', 'name:bcl', 'name:be', 'name:be-tarask', 'name:bjn', 'name:bm', 'name:bn', 'name:bo', 'name:bpy', 'name:bs', 'name:bxr', 'name:ce', 'name:ceb', 'name:ckb', 'name:crh', 'name:cv', 'name:cy', 'name:diq', 'name:dsb', 'name:dv', 'name:dz', 'name:ext', 'name:fa', 'name:ff', 'name:fi', 'name:fo', 'name:frp', 'name:frr', 'name:fy', 'name:ga', 'name:gag', 'name:gd', 'name:gl', 'name:gn', 'name:gu', 'name:gv', 'name:ha', 'name:haw', 'name:hif', 'name:hsb', 'name:ht', 'name:hy', 'name:ia', 'name:id', 'name:ie', 'name:ilo', 'name:io', 'name:jbo', 'name:ka', 'name:kaa', 'name:kab', 'name:kg', 'name:ki', 'name:kk', 'name:kl', 'name:kn', 'name:kw', 'name:la', 'name:lb', 'name:lg', 'name:li', 'name:lij', 'name:lmo', 'name:ln', 'name:ltg', 'name:lv', 'name:mg', 'name:mi', 'name:mk', 'name:ml', 'name:mn', 'name:mr', 'name:mrj', 'name:ms', 'name:mt', 'name:my', 'name:na', 'name:nah', 'name:nan', 'name:nap', 'name:nds', 'name:nn', 'name:nov', 'name:nso', 'name:nv', 'name:oc', 'name:or', 'name:os', 'name:pag', 'name:pam', 'name:pap', 'name:pih', 'name:pms', 'name:pnb', 'name:ps', 'name:qu', 'name:ro', 'name:rw', 'name:sa', 'name:sah', 'name:sc', 'name:scn', 'name:sco', 'name:se', 'name:sg', 'name:sh', 'name:simple', 'name:sk', 'name:smn', 'name:sms', 'name:sn', 'name:sq', 'name:ss', 'name:stq', 'name:su', 'name:sv', 'name:szl', 'name:te', 'name:tg', 'name:th', 'name:tk', 'name:tl', 'name:tr', 'name:ts', 'name:tt', 'name:tzl', 'name:uz', 'name:vec', 'name:vi', 'name:vo', 'name:vro', 'name:war', 'name:wo', 'name:wuu', 'name:xal', 'name:yi', 'name:yo', 'name:yue', 'name:zh-Hans', 'name:zh-Hant', 'name:zh-Hant-CN', 'name:zh-Hant-HK', 'name:zh-Hant-TW', 'name:zu', 'official_name:cs', 'official_name:en', 'official_name:gn', 'official_name:pt', 'timezone', 'int_name', 'name:ak', 'name:chy', 'name:ee', 'name:kbd', 'name:lez', 'name:min', 'name:mzn', 'name:ne', 'name:ny', 'name:rm', 'name:rn', 'name:roa-tara', 'name:rue', 'name:st', 'name:tok', 'name:tum', 'name:tw', 'official_name', 'official_name:be', 'official_name:ca', 'official_name:es', 'official_name:et', 'official_name:id', 'official_name:ku', 'official_name:lb', 'official_name:lt', 'official_name:no', 'official_name:ru', 'official_name:sv', 'official_name:vi', 'population', 'population:date', 'source:population', 'CONSTITUEN', 'CONST_CODE', 'COUNTY_COD', 'COUNTY_NAM', 'ID_', 'ISO3166-2', 'OBJECTID', 'Shape_Area', 'Shape_Leng', 'alt_name:zh', 'boundary_type', 'is_in:county', 'land_area', 'is_in:subcounty', 'alt_name:ang', 'alt_name:arc', 'alt_name:bo', 'alt_name:ceb', 'alt_name:eo', 'alt_name:gd', 'alt_name:hak', 'alt_name:koi', 'alt_name:scn', 'alt_name:tr', 'alt_name:vi', 'alt_name:war', 'default_language', 'name:ady', 'name:av', 'name:bar', 'name:bh', 'name:cbk-zam', 'name:cdo', 'name:chr', 'name:cu', 'name:din', 'name:dty', 'name:fur', 'name:gan', 'name:gom', 'name:hak', 'name:ig', 'name:jam', 'name:kbp', 'name:km', 'name:koi', 'name:ks', 'name:ksh', 'name:kv', 'name:ky', 'name:lad', 'name:lo', 'name:lrc', 'name:lzh', 'name:mai', 'name:mhr', 'name:new', 'name:olo', 'name:pi', 'name:si', 'name:sm', 'name:srn', 'name:to', 'name:vep', 'name:wa', 'name:xh', 'name:xmf', 'name:za', 'name:zea', 'name:zh-Latn-pinyin', 'official_name:ady', 'official_name:af', 'official_name:als', 'official_name:am', 'official_name:an', 'official_name:ar', 'official_name:arc', 'official_name:arz', 'official_name:ast', 'official_name:az', 'official_name:ba', 'official_name:bcl', 'official_name:be-tarask', 'official_name:bg', 'official_name:bjn', 'official_name:bm', 'official_name:bn', 'official_name:bpy', 'official_name:br', 'official_name:bs', 'official_name:bxr', 'official_name:ce', 'official_name:chr', 'official_name:ckb', 'official_name:crh', 'official_name:cu', 'official_name:cv', 'official_name:cy', 'official_name:da', 'official_name:de', 'official_name:diq', 'official_name:dsb', 'official_name:el', 'official_name:eo', 'official_name:eu', 'official_name:ext', 'official_name:fa', 'official_name:fi', 'official_name:fr', 'official_name:frr', 'official_name:fy', 'official_name:ga', 'official_name:gan', 'official_name:gd', 'official_name:gl', 'official_name:gu', 'official_name:gv', 'official_name:ha', 'official_name:he', 'official_name:hi', 'official_name:hr', 'official_name:hsb', 'official_name:hu', 'official_name:hy', 'official_name:ia', 'official_name:ig', 'official_name:ilo', 'official_name:it', 'official_name:ja', 'official_name:jam', 'official_name:jv', 'official_name:ka', 'official_name:kg', 'official_name:kk', 'official_name:kn', 'official_name:ko', 'official_name:kv', 'official_name:lad', 'official_name:lez', 'official_name:lij', 'official_name:lmo', 'official_name:lv', 'official_name:mai', 'official_name:min', 'official_name:mk', 'official_name:ml', 'official_name:mn', 'official_name:mr', 'official_name:ms', 'official_name:my', 'official_name:mzn', 'official_name:nah', 'official_name:nan', 'official_name:nds', 'official_name:ne', 'official_name:new', 'official_name:nl', 'official_name:nn', 'official_name:nso', 'official_name:oc', 'official_name:om', 'official_name:os', 'official_name:pa', 'official_name:pap', 'official_name:pl', 'official_name:pms', 'official_name:ps', 'official_name:qu', 'official_name:rm', 'official_name:ro', 'official_name:roa-tara', 'official_name:sah', 'official_name:sc', 'official_name:scn', 'official_name:sco', 'official_name:sg', 'official_name:sh', 'official_name:si', 'official_name:sk', 'official_name:sl', 'official_name:sm', 'official_name:so', 'official_name:sr', 'official_name:stq', 'official_name:su', 'official_name:sw', 'official_name:szl', 'official_name:ta', 'official_name:te', 'official_name:th', 'official_name:tk', 'official_name:tl', 'official_name:tr', 'official_name:tt', 'official_name:uk', 'official_name:ur', 'official_name:uz', 'official_name:vec', 'official_name:vep', 'official_name:vro', 'official_name:wo', 'official_name:wuu', 'official_name:xmf', 'official_name:yi', 'official_name:yue', 'official_name:zea', 'official_name:zh', 'old_name', 'old_name:az', 'old_name:bar', 'old_name:ca', 'old_name:ce', 'old_name:cs', 'old_name:de', 'old_name:eo', 'old_name:es', 'old_name:ext', 'old_name:fi', 'old_name:fr', 'old_name:ig', 'old_name:io', 'old_name:it', 'old_name:kn', 'old_name:ku', 'old_name:la', 'old_name:lez', 'old_name:pam', 'old_name:rm', 'old_name:roa-tara', 'old_name:ru', 'old_name:sk', 'old_name:sl', 'old_name:sq', 'old_name:stq', 'old_name:uz', 'old_name:vep', 'short_name', 'short_name:am', 'short_name:be', 'short_name:be-tarask', 'short_name:es', 'alt_name:es', 'is_in:country', 'is_in:country_code', 'ref', 'long_name:ar', 'name:pdc', 'name:so-Osma', 'name:avk', 'alt_name:it', 'alt_name:fr', 'alt_name:ko', 'alt_name:de', 'is_in:city', 'source:ref', 'alt_name:uk', 'name:lbe', 'name:lfn', 'name:mdf', 'name:nds-nl', 'name:udm', 'name:vls', 'official_name:din', 'source:name', 'start_date', 'name:tec', 'source:name:tec', 'currency', 'population:2010', 'population:2010:source', 'source_ref', 'disused:id', 'households', 'households:2002', 'households:2002:date', 'households:date', 'population:2002', 'population:2002:date', 'source:population:2002']\n"
     ]
    }
   ],
   "source": [
    "print(gdf_admin.columns.tolist())"
   ]
  },
  {
   "cell_type": "code",
   "execution_count": 8,
   "id": "6bd43cef",
   "metadata": {
    "execution": {
     "iopub.execute_input": "2025-09-16T10:00:23.599365Z",
     "iopub.status.busy": "2025-09-16T10:00:23.598987Z",
     "iopub.status.idle": "2025-09-16T10:00:23.604396Z",
     "shell.execute_reply": "2025-09-16T10:00:23.603166Z"
    },
    "papermill": {
     "duration": 0.015482,
     "end_time": "2025-09-16T10:00:23.606583",
     "exception": false,
     "start_time": "2025-09-16T10:00:23.591101",
     "status": "completed"
    },
    "tags": []
   },
   "outputs": [],
   "source": [
    "# keep_cols = [\"osm_id\", \"name\", \"admin_level\", \"boundary\", \"geometry\"]\n",
    "# gdf_admin = gdf_admin[keep_cols]"
   ]
  },
  {
   "cell_type": "code",
   "execution_count": 9,
   "id": "351aae06",
   "metadata": {
    "execution": {
     "iopub.execute_input": "2025-09-16T10:00:23.621966Z",
     "iopub.status.busy": "2025-09-16T10:00:23.621341Z",
     "iopub.status.idle": "2025-09-16T10:02:18.881302Z",
     "shell.execute_reply": "2025-09-16T10:02:18.877913Z"
    },
    "papermill": {
     "duration": 115.273887,
     "end_time": "2025-09-16T10:02:18.887176",
     "exception": false,
     "start_time": "2025-09-16T10:00:23.613289",
     "status": "completed"
    },
    "tags": []
   },
   "outputs": [],
   "source": [
    "'''\n",
    "Pulling all admin boundaries is a heavy query (sometimes split into 200+ Overpass sub-queries).\n",
    "If you save it once:\n",
    "'''\n",
    "# gdf_admin.to_file(\"kenya_admin_levels.gpkg\", layer=\"all_admin\", driver=\"GPKG\")\n",
    "gdf_admin.to_file(\"kenya_admin_levels.geojson\", driver=\"GeoJSON\")\n"
   ]
  },
  {
   "cell_type": "markdown",
   "id": "4a47f323",
   "metadata": {
    "papermill": {
     "duration": 0.008266,
     "end_time": "2025-09-16T10:02:18.906598",
     "exception": false,
     "start_time": "2025-09-16T10:02:18.898332",
     "status": "completed"
    },
    "tags": []
   },
   "source": [
    "This avoids:\n",
    "\n",
    "Waiting several minutes for Overpass.\n",
    "\n",
    "Risk of hitting API rate limits.\n",
    "\n",
    "Getting different results if OSM data changes tomorrow."
   ]
  },
  {
   "cell_type": "code",
   "execution_count": 10,
   "id": "90b00583",
   "metadata": {
    "execution": {
     "iopub.execute_input": "2025-09-16T10:02:18.933383Z",
     "iopub.status.busy": "2025-09-16T10:02:18.932844Z",
     "iopub.status.idle": "2025-09-16T10:05:34.321041Z",
     "shell.execute_reply": "2025-09-16T10:05:34.319796Z"
    },
    "papermill": {
     "duration": 195.414603,
     "end_time": "2025-09-16T10:05:34.330497",
     "exception": false,
     "start_time": "2025-09-16T10:02:18.915894",
     "status": "completed"
    },
    "tags": []
   },
   "outputs": [
    {
     "name": "stdout",
     "output_type": "stream",
     "text": [
      "    element      id admin_level border_type        boundary    name source  \\\n",
      "0  relation  192796           2        None  administrative  Uganda   None   \n",
      "1  relation  192796           2        None  administrative  Uganda   None   \n",
      "2  relation  192796           2        None  administrative  Uganda   None   \n",
      "3  relation  192796           2        None  administrative  Uganda   None   \n",
      "4  relation  192796           2        None  administrative  Uganda   None   \n",
      "\n",
      "  left:country right:country right:province  ... source_ref disused:id  \\\n",
      "0         None          None           None  ...       None       None   \n",
      "1         None          None           None  ...       None       None   \n",
      "2         None          None           None  ...       None       None   \n",
      "3         None          None           None  ...       None       None   \n",
      "4         None          None           None  ...       None       None   \n",
      "\n",
      "  households households:2002 households:2002:date households:date  \\\n",
      "0       None            None                  NaT             NaT   \n",
      "1       None            None                  NaT             NaT   \n",
      "2       None            None                  NaT             NaT   \n",
      "3       None            None                  NaT             NaT   \n",
      "4       None            None                  NaT             NaT   \n",
      "\n",
      "  population:2002 population:2002:date source:population:2002  \\\n",
      "0            None                  NaT                   None   \n",
      "1            None                  NaT                   None   \n",
      "2            None                  NaT                   None   \n",
      "3            None                  NaT                   None   \n",
      "4            None                  NaT                   None   \n",
      "\n",
      "                                            geometry  \n",
      "0  POLYGON ((29.57788 -1.12766, 29.57784 -1.12763...  \n",
      "1  POLYGON ((29.57788 -1.12766, 29.57784 -1.12763...  \n",
      "2  POLYGON ((29.57788 -1.12766, 29.57784 -1.12763...  \n",
      "3  POLYGON ((29.57788 -1.12766, 29.57784 -1.12763...  \n",
      "4  POLYGON ((29.57788 -1.12766, 29.57784 -1.12763...  \n",
      "\n",
      "[5 rows x 568 columns]\n",
      "EPSG:4326\n"
     ]
    }
   ],
   "source": [
    "# Read it back\n",
    "gdf_admin = gpd.read_file(\"kenya_admin_levels.geojson\")\n",
    "\n",
    "print(gdf_admin.head())\n",
    "print(gdf_admin.crs)   # check the coordinate system"
   ]
  },
  {
   "cell_type": "code",
   "execution_count": 11,
   "id": "2fdb42f1",
   "metadata": {
    "execution": {
     "iopub.execute_input": "2025-09-16T10:05:34.345871Z",
     "iopub.status.busy": "2025-09-16T10:05:34.345482Z",
     "iopub.status.idle": "2025-09-16T10:05:34.648014Z",
     "shell.execute_reply": "2025-09-16T10:05:34.646714Z"
    },
    "papermill": {
     "duration": 0.312773,
     "end_time": "2025-09-16T10:05:34.650347",
     "exception": false,
     "start_time": "2025-09-16T10:05:34.337574",
     "status": "completed"
    },
    "tags": []
   },
   "outputs": [],
   "source": [
    "# National boundary\n",
    "country = gdf_admin[gdf_admin[\"admin_level\"] == \"2\"]\n",
    "\n",
    "# Counties\n",
    "counties = gdf_admin[gdf_admin[\"admin_level\"] == \"4\"]\n",
    "\n",
    "# Sub-counties, wards etc. if present\n",
    "wards = gdf_admin[gdf_admin[\"admin_level\"] == \"7\"]\n"
   ]
  },
  {
   "cell_type": "code",
   "execution_count": 12,
   "id": "7a95801c",
   "metadata": {
    "execution": {
     "iopub.execute_input": "2025-09-16T10:05:34.666219Z",
     "iopub.status.busy": "2025-09-16T10:05:34.665863Z",
     "iopub.status.idle": "2025-09-16T10:05:37.338470Z",
     "shell.execute_reply": "2025-09-16T10:05:37.337264Z"
    },
    "papermill": {
     "duration": 2.683151,
     "end_time": "2025-09-16T10:05:37.340351",
     "exception": false,
     "start_time": "2025-09-16T10:05:34.657200",
     "status": "completed"
    },
    "tags": []
   },
   "outputs": [
    {
     "data": {
      "image/png": "[encoded data removed]",
      "text/plain": [
       "<Figure size 800x800 with 1 Axes>"
      ]
     },
     "metadata": {},
     "output_type": "display_data"
    }
   ],
   "source": [
    "import matplotlib.pyplot as plt\n",
    "\n",
    "counties.plot(edgecolor=\"black\", facecolor=\"none\", figsize=(8,8))\n",
    "plt.show()\n"
   ]
  },
  {
   "cell_type": "code",
   "execution_count": 13,
   "id": "18259e73",
   "metadata": {
    "execution": {
     "iopub.execute_input": "2025-09-16T10:05:37.358940Z",
     "iopub.status.busy": "2025-09-16T10:05:37.358612Z",
     "iopub.status.idle": "2025-09-16T10:05:42.390405Z",
     "shell.execute_reply": "2025-09-16T10:05:42.389234Z"
    },
    "papermill": {
     "duration": 5.043268,
     "end_time": "2025-09-16T10:05:42.392436",
     "exception": false,
     "start_time": "2025-09-16T10:05:37.349168",
     "status": "completed"
    },
    "tags": []
   },
   "outputs": [
    {
     "data": {
      "image/png": "[encoded data removed]",
      "text/plain": [
       "<Figure size 800x800 with 1 Axes>"
      ]
     },
     "metadata": {},
     "output_type": "display_data"
    }
   ],
   "source": [
    "country.plot(edgecolor=\"black\", facecolor=\"none\", figsize=(8,8))\n",
    "plt.show()"
   ]
  },
  {
   "cell_type": "code",
   "execution_count": 14,
   "id": "19e47ffc",
   "metadata": {
    "execution": {
     "iopub.execute_input": "2025-09-16T10:05:42.555310Z",
     "iopub.status.busy": "2025-09-16T10:05:42.554916Z",
     "iopub.status.idle": "2025-09-16T10:05:42.794274Z",
     "shell.execute_reply": "2025-09-16T10:05:42.792993Z"
    },
    "papermill": {
     "duration": 0.252406,
     "end_time": "2025-09-16T10:05:42.796209",
     "exception": false,
     "start_time": "2025-09-16T10:05:42.543803",
     "status": "completed"
    },
    "tags": []
   },
   "outputs": [
    {
     "data": {
      "image/png": "[encoded data removed]",
      "text/plain": [
       "<Figure size 800x800 with 1 Axes>"
      ]
     },
     "metadata": {},
     "output_type": "display_data"
    }
   ],
   "source": [
    "wards.plot(edgecolor=\"black\", facecolor=\"none\", figsize=(8,8))\n",
    "plt.show()"
   ]
  },
  {
   "cell_type": "code",
   "execution_count": 15,
   "id": "8fa0002b",
   "metadata": {
    "execution": {
     "iopub.execute_input": "2025-09-16T10:05:42.818530Z",
     "iopub.status.busy": "2025-09-16T10:05:42.817547Z",
     "iopub.status.idle": "2025-09-16T10:05:43.221711Z",
     "shell.execute_reply": "2025-09-16T10:05:43.219829Z"
    },
    "papermill": {
     "duration": 0.418211,
     "end_time": "2025-09-16T10:05:43.224596",
     "exception": false,
     "start_time": "2025-09-16T10:05:42.806385",
     "status": "completed"
    },
    "tags": []
   },
   "outputs": [],
   "source": [
    "!rm /kaggle/working/cache/ -r"
   ]
  },
  {
   "cell_type": "code",
   "execution_count": null,
   "id": "8e668eea",
   "metadata": {
    "papermill": {
     "duration": 0.009829,
     "end_time": "2025-09-16T10:05:43.244839",
     "exception": false,
     "start_time": "2025-09-16T10:05:43.235010",
     "status": "completed"
    },
    "tags": []
   },
   "outputs": [],
   "source": []
  }
 ],
 "metadata": {
  "kaggle": {
   "accelerator": "none",
   "dataSources": [],
   "dockerImageVersionId": 31089,
   "isGpuEnabled": false,
   "isInternetEnabled": true,
   "language": "python",
   "sourceType": "notebook"
  },
  "kernelspec": {
   "display_name": "Python 3",
   "language": "python",
   "name": "python3"
  },
  "language_info": {
   "codemirror_mode": {
    "name": "ipython",
    "version": 3
   },
   "file_extension": ".py",
   "mimetype": "text/x-python",
   "name": "python",
   "nbconvert_exporter": "python",
   "pygments_lexer": "ipython3",
   "version": "3.11.13"
  },
  "papermill": {
   "default_parameters": {},
   "duration": 2148.295523,
   "end_time": "2025-09-16T10:05:46.158365",
   "environment_variables": {},
   "exception": null,
   "input_path": "__notebook__.ipynb",
   "output_path": "__notebook__.ipynb",
   "parameters": {},
   "start_time": "2025-09-16T09:29:57.862842",
   "version": "2.6.0"
  }
 },
 "nbformat": 4,
 "nbformat_minor": 5
}
