{
 "cells": [
  {
   "cell_type": "code",
   "execution_count": 1,
   "id": "3c166293",
   "metadata": {
    "_cell_guid": "b1076dfc-b9ad-4769-8c92-a6c4dae69d19",
    "_uuid": "8f2839f25d086af736a60e9eeb907d3b93b6e0e5",
    "execution": {
     "iopub.execute_input": "2025-09-17T13:36:41.739087Z",
     "iopub.status.busy": "2025-09-17T13:36:41.738749Z",
     "iopub.status.idle": "2025-09-17T13:38:02.585480Z",
     "shell.execute_reply": "2025-09-17T13:38:02.584321Z"
    },
    "papermill": {
     "duration": 80.851901,
     "end_time": "2025-09-17T13:38:02.587489",
     "exception": false,
     "start_time": "2025-09-17T13:36:41.735588",
     "status": "completed"
    },
    "tags": []
   },
   "outputs": [
    {
     "name": "stdout",
     "output_type": "stream",
     "text": [
      "Downloading: 2021(Revised)_Prepaid_Reallocation_&_Reversal.pdf\n",
      "Downloading: 01K2P78RAN74262NZS75AAQSVC.pdf\n",
      "Downloading: 01JD9R2KKKAJNQZ9ASNWVPKYNF.pdf\n",
      "Downloading: 01K136H6CNFRF7PMN1S0DY1S6S.pdf\n",
      "Downloading: 01JZSGZRY4HZHA1Q9WRDV8ZT0F.pdf\n",
      "Downloading: 01J7GBQNFHE57VDQ3VE5P79VM5.pdf\n",
      "Downloading: 01J7185395VJDMQ36RGAQV8SJN.pdf\n",
      "Downloading: 01JA7Y3RMRZVR9NNYMC4VRH4ZN.pdf\n",
      "Downloading: 01JM1N87MTDJ5242CE8GGQBCRP.pdf\n",
      "Downloading: 01JCPTZ0W41NNE0Q0M14HE7P5Q.pdf\n",
      "Downloading: 01J1FA2JXK3QNX0PM6YAP0P3T2.pdf\n",
      "Downloading: 01JB16DAT6GDH8V7WS828QEV6D.pdf\n",
      "Downloading: 01K2C4D1CQHWJV0PJM3ZX22S2K.pdf\n",
      "Downloading: 01JZ7KGAR4GPMNPMRCM5P1M9ST.pdf\n",
      "Downloading: 01JVY1ETS6ASGH434Y6NRZREKP.pdf\n",
      "Downloading: 01JP7XF60MSAWJHA8FB4ZQRHY8.pdf\n",
      "Downloading: 01JP7XEH05QF9NJM4TGRY2RMTY.pdf\n",
      "Downloading: 2021_(Revised)_Postpaid_Reallocatio&Refund_form.pdf\n",
      "Downloading: 01JRJ9TXE0PNYESAQECD70S3YN.pdf\n",
      "Downloading: 01JGNPY56W5V0NXNDG3Q6JGKRK.pdf\n",
      "Downloading: 01J8PS7AX192XJ1FK0KQNW0JH5.pdf\n",
      "Downloading: Kenya_Power_Sustainability_Strategy_2024_18th_Nov.pdf\n",
      "Downloading: 01JC3E4SK6Z5PR3C5XKKSFVXW1.pdf\n",
      "Downloading: 01J871DG040Y12R55BTGT09WYN.pdf\n",
      "Downloading: 01JYNWXZAB6RR3SK7S4YBFRBMG.pdf\n",
      "Downloading: 01JJ9CFR02CF4Z1CN8Y3SATXKG.pdf\n",
      "Downloading: 01JXMQRS0EKAXCN3J2EGN4AHBP.pdf\n",
      "Downloading: 01JSK6XSV27X6YHDX9CVZZ746Z.pdf\n",
      "Downloading: 01K09726RVCV6HJN2ZCCSMP4EQ.pdf\n",
      "Downloading: 01J7MY7YRCJRM5SNA8EEBXQE3S.pdf\n",
      "Downloading: 01K003KRNX1VM1E7HKHCT83Q8G.pdf\n",
      "Downloading: 01JVCQ8RJYH48W20C99ZRZNVCN.pdf\n",
      "Downloading: 01J8PJD2N8FWYSXJ3AD11TQH8C.pdf\n",
      "Downloading: 01K3TRXMARGN2KZ66WF6Y78TMB.pdf\n",
      "Downloading: 01JPSEJ4JPEP01G1Q4VXF4NKAH.pdf\n",
      "Downloading: 01JWE3DAJTH2DBTJK6BZGEZDK9.pdf\n",
      "Downloading: 01JS1XT0CJA8PCTTCWZ8FS8H8M.pdf\n",
      "Downloading: 01JV9VDQW0A7XAWCP8VQXDTC6D.pdf\n",
      "Downloading: 01JQBGP805M1M59157RSXTFR4W.pdf\n",
      "Downloading: 01JN333MXKH8EH77TG2KB5Z31S.pdf\n",
      "Downloading: 01J6S7ZCZE49PQWVHX6R2Z0Y0D.pdf\n",
      "Downloading: 01K0NWZ5AJWY2CKVR27HJTWFE4.pdf\n",
      "Downloading: 01K3602Z9HTKRN3FZ15KDCZF53.pdf\n",
      "Downloading: 01JTR3EEJMZGWYZXDV0TXP9XH0.pdf\n",
      "Downloading: 01JYA1DANZCTPZA6ZC6HMHVKDD.pdf\n",
      "Downloading: 01JF74GM6PZ4W0V431G0CW2J28.pdf\n",
      "Downloading: 01JDSFBFT07Q0ARPMF06P19WF7.pdf\n",
      "Downloading: 01K4VYBGKXTQYTJGFYF94Q95YT.pdf\n",
      "Downloading: 01JH5EB3RPVS60XPN33565DNXZ.pdf\n",
      "Downloading: 01JMHWRB64HYFS4DXNT8G2AXPS.pdf\n",
      "Downloading: 01JNNM6TPKB5QRQ7JC10WENG4Q.pdf\n",
      "Downloading: 01JJV2BMR0H8MRCAD42Y1KX5FZ.pdf\n",
      "Downloading: 01K4CVT9654ZXNHZ7PW0Y3AH3K.pdf\n",
      "Downloading: Customer_Complaint_Policy_and_Process_7_in_x_9.5_in_final.pdf\n",
      "Downloading: 01JHQ568NP8SRE1VNM9A67NH2D.pdf\n",
      "Downloading: Final_E_MOBILITY_CONFERENCE_REPORT_(DRAFT_10).pdf\n",
      "Downloading: 01JADBBJMQ9DD8DK6FCE0BW2K3.pdf\n",
      "Downloading: 01JT8PSACKGVT8BZXH2VA8CWXX.pdf\n",
      "Downloading: 01K1JKNRVT8MN93RGC2KPH6248.pdf\n",
      "Downloading: 01JQZTQ1KJVZ8490XSAP5WD173.pdf\n"
     ]
    }
   ],
   "source": [
    "import os\n",
    "import requests\n",
    "from bs4 import BeautifulSoup\n",
    "\n",
    "BASE_URL = \"https://www.kplc.co.ke/customer-support\"\n",
    "SAVE_DIR = \"kplc_pdfs\"\n",
    "\n",
    "os.makedirs(SAVE_DIR, exist_ok=True)\n",
    "\n",
    "def get_pdf_links(page):\n",
    "    url = f\"{BASE_URL}?page={page}#powerschedule\"\n",
    "    r = requests.get(url)\n",
    "    soup = BeautifulSoup(r.text, \"html.parser\")\n",
    "    \n",
    "    pdf_links = []\n",
    "    for a in soup.find_all(\"a\", href=True):\n",
    "        href = a[\"href\"]\n",
    "        if href.endswith(\".pdf\") and \"storage\" in href:\n",
    "            pdf_links.append(href)\n",
    "    return pdf_links\n",
    "\n",
    "def download_pdf(url, save_dir=SAVE_DIR):\n",
    "    filename = url.split(\"/\")[-1]\n",
    "    filepath = os.path.join(save_dir, filename)\n",
    "    if not os.path.exists(filepath):  # avoid duplicates\n",
    "        print(f\"Downloading: {filename}\")\n",
    "        r = requests.get(url)\n",
    "        with open(filepath, \"wb\") as f:\n",
    "            f.write(r.content)\n",
    "\n",
    "# Loop through the 7 pages\n",
    "all_pdfs = []\n",
    "for page in range(1, 8):\n",
    "    links = get_pdf_links(page)\n",
    "    all_pdfs.extend(links)\n",
    "\n",
    "# Remove duplicates just in case\n",
    "all_pdfs = list(set(all_pdfs))\n",
    "\n",
    "# Download PDFs\n",
    "for pdf in all_pdfs:\n",
    "    download_pdf(pdf)\n"
   ]
  },
  {
   "cell_type": "code",
   "execution_count": 2,
   "id": "f9ebb6fc",
   "metadata": {
    "execution": {
     "iopub.execute_input": "2025-09-17T13:38:02.599587Z",
     "iopub.status.busy": "2025-09-17T13:38:02.599164Z",
     "iopub.status.idle": "2025-09-17T13:38:02.608010Z",
     "shell.execute_reply": "2025-09-17T13:38:02.606785Z"
    },
    "papermill": {
     "duration": 0.016419,
     "end_time": "2025-09-17T13:38:02.609539",
     "exception": false,
     "start_time": "2025-09-17T13:38:02.593120",
     "status": "completed"
    },
    "tags": []
   },
   "outputs": [
    {
     "data": {
      "text/plain": [
       "60"
      ]
     },
     "execution_count": 2,
     "metadata": {},
     "output_type": "execute_result"
    }
   ],
   "source": [
    "len(all_pdfs)"
   ]
  },
  {
   "cell_type": "code",
   "execution_count": null,
   "id": "34da7e90",
   "metadata": {
    "papermill": {
     "duration": 0.004537,
     "end_time": "2025-09-17T13:38:02.618884",
     "exception": false,
     "start_time": "2025-09-17T13:38:02.614347",
     "status": "completed"
    },
    "tags": []
   },
   "outputs": [],
   "source": []
  }
 ],
 "metadata": {
  "kaggle": {
   "accelerator": "none",
   "dataSources": [],
   "dockerImageVersionId": 31089,
   "isGpuEnabled": false,
   "isInternetEnabled": true,
   "language": "python",
   "sourceType": "notebook"
  },
  "kernelspec": {
   "display_name": "Python 3",
   "language": "python",
   "name": "python3"
  },
  "language_info": {
   "codemirror_mode": {
    "name": "ipython",
    "version": 3
   },
   "file_extension": ".py",
   "mimetype": "text/x-python",
   "name": "python",
   "nbconvert_exporter": "python",
   "pygments_lexer": "ipython3",
   "version": "3.11.13"
  },
  "papermill": {
   "default_parameters": {},
   "duration": 87.41684,
   "end_time": "2025-09-17T13:38:03.143105",
   "environment_variables": {},
   "exception": null,
   "input_path": "__notebook__.ipynb",
   "output_path": "__notebook__.ipynb",
   "parameters": {},
   "start_time": "2025-09-17T13:36:35.726265",
   "version": "2.6.0"
  }
 },
 "nbformat": 4,
 "nbformat_minor": 5
}
