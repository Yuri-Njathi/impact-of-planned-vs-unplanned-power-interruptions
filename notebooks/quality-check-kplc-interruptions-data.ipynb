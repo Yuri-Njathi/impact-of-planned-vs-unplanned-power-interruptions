{
 "cells": [
  {
   "cell_type": "code",
   "execution_count": 1,
   "id": "1ab7a1e1",
   "metadata": {
    "_cell_guid": "b1076dfc-b9ad-4769-8c92-a6c4dae69d19",
    "_uuid": "8f2839f25d086af736a60e9eeb907d3b93b6e0e5",
    "execution": {
     "iopub.execute_input": "2025-09-22T08:51:33.078408Z",
     "iopub.status.busy": "2025-09-22T08:51:33.078133Z",
     "iopub.status.idle": "2025-09-22T08:51:34.810227Z",
     "shell.execute_reply": "2025-09-22T08:51:34.809352Z"
    },
    "papermill": {
     "duration": 1.736758,
     "end_time": "2025-09-22T08:51:34.811882",
     "exception": false,
     "start_time": "2025-09-22T08:51:33.075124",
     "status": "completed"
    },
    "tags": []
   },
   "outputs": [],
   "source": [
    "import pandas as pd\n",
    "\n",
    "df = pd.read_csv(\"/kaggle/input/kenya-power-network-data/kplc-interruptions-data.csv\")"
   ]
  },
  {
   "cell_type": "code",
   "execution_count": 2,
   "id": "5cdebc20",
   "metadata": {
    "execution": {
     "iopub.execute_input": "2025-09-22T08:51:34.816224Z",
     "iopub.status.busy": "2025-09-22T08:51:34.815974Z",
     "iopub.status.idle": "2025-09-22T08:51:34.837639Z",
     "shell.execute_reply": "2025-09-22T08:51:34.836809Z"
    },
    "papermill": {
     "duration": 0.025372,
     "end_time": "2025-09-22T08:51:34.839064",
     "exception": false,
     "start_time": "2025-09-22T08:51:34.813692",
     "status": "completed"
    },
    "tags": []
   },
   "outputs": [
    {
     "data": {
      "text/html": [
       "<div>\n",
       "<style scoped>\n",
       "    .dataframe tbody tr th:only-of-type {\n",
       "        vertical-align: middle;\n",
       "    }\n",
       "\n",
       "    .dataframe tbody tr th {\n",
       "        vertical-align: top;\n",
       "    }\n",
       "\n",
       "    .dataframe thead th {\n",
       "        text-align: right;\n",
       "    }\n",
       "</style>\n",
       "<table border=\"1\" class=\"dataframe\">\n",
       "  <thead>\n",
       "    <tr style=\"text-align: right;\">\n",
       "      <th></th>\n",
       "      <th>county</th>\n",
       "      <th>area</th>\n",
       "      <th>date</th>\n",
       "      <th>time</th>\n",
       "      <th>places</th>\n",
       "      <th>file</th>\n",
       "    </tr>\n",
       "  </thead>\n",
       "  <tbody>\n",
       "    <tr>\n",
       "      <th>0</th>\n",
       "      <td>NAIROBI</td>\n",
       "      <td>KAHAWA WEST , GITHURAI 44</td>\n",
       "      <td>Monday 27.01.2025</td>\n",
       "      <td>9.00  A.M. – 5.00 P.M .</td>\n",
       "      <td>['Zimmerman', 'Parts of Githurai 44', 'Kahawa ...</td>\n",
       "      <td>01JJ9CFR02CF4Z1CN8Y3SATXKG.pdf</td>\n",
       "    </tr>\n",
       "    <tr>\n",
       "      <th>1</th>\n",
       "      <td>NAIROBI</td>\n",
       "      <td>NAIROBI WEST</td>\n",
       "      <td>Monday 27.01.2025</td>\n",
       "      <td>9.00 A.M. – 5.00 P.M.</td>\n",
       "      <td>['Part of Nairobi West', 'Naimey Rd', 'ICC  Ch...</td>\n",
       "      <td>01JJ9CFR02CF4Z1CN8Y3SATXKG.pdf</td>\n",
       "    </tr>\n",
       "    <tr>\n",
       "      <th>2</th>\n",
       "      <td>NAIROBI</td>\n",
       "      <td>PART OF RUARAKA</td>\n",
       "      <td>Tuesday 28.01.2025</td>\n",
       "      <td>9.00  A.M. – 5.00 P.M .</td>\n",
       "      <td>['Kasarani Stadium', 'Regional Centre of Mappi...</td>\n",
       "      <td>01JJ9CFR02CF4Z1CN8Y3SATXKG.pdf</td>\n",
       "    </tr>\n",
       "    <tr>\n",
       "      <th>3</th>\n",
       "      <td>NAIROBI</td>\n",
       "      <td>PART OF KASARANI</td>\n",
       "      <td>Thursday 30.01.2025</td>\n",
       "      <td>9.00A.M . – 5.00 P.M .</td>\n",
       "      <td>['Sunton', 'Linet Academy', 'Clay City Police'...</td>\n",
       "      <td>01JJ9CFR02CF4Z1CN8Y3SATXKG.pdf</td>\n",
       "    </tr>\n",
       "    <tr>\n",
       "      <th>4</th>\n",
       "      <td>NAIROBI</td>\n",
       "      <td>PART OF LANGATA, PART OF KAREN</td>\n",
       "      <td>Tuesday 28. 01.2025</td>\n",
       "      <td>9.00 A.M. – 5.00 P.M.</td>\n",
       "      <td>['St Thomas Seminary', 'Magadi Rd', 'Bogani Ea...</td>\n",
       "      <td>01JJ9CFR02CF4Z1CN8Y3SATXKG.pdf</td>\n",
       "    </tr>\n",
       "  </tbody>\n",
       "</table>\n",
       "</div>"
      ],
      "text/plain": [
       "    county                            area                 date  \\\n",
       "0  NAIROBI       KAHAWA WEST , GITHURAI 44    Monday 27.01.2025   \n",
       "1  NAIROBI                    NAIROBI WEST    Monday 27.01.2025   \n",
       "2  NAIROBI                 PART OF RUARAKA   Tuesday 28.01.2025   \n",
       "3  NAIROBI                PART OF KASARANI  Thursday 30.01.2025   \n",
       "4  NAIROBI  PART OF LANGATA, PART OF KAREN  Tuesday 28. 01.2025   \n",
       "\n",
       "                      time                                             places  \\\n",
       "0  9.00  A.M. – 5.00 P.M .  ['Zimmerman', 'Parts of Githurai 44', 'Kahawa ...   \n",
       "1    9.00 A.M. – 5.00 P.M.  ['Part of Nairobi West', 'Naimey Rd', 'ICC  Ch...   \n",
       "2  9.00  A.M. – 5.00 P.M .  ['Kasarani Stadium', 'Regional Centre of Mappi...   \n",
       "3   9.00A.M . – 5.00 P.M .  ['Sunton', 'Linet Academy', 'Clay City Police'...   \n",
       "4    9.00 A.M. – 5.00 P.M.  ['St Thomas Seminary', 'Magadi Rd', 'Bogani Ea...   \n",
       "\n",
       "                             file  \n",
       "0  01JJ9CFR02CF4Z1CN8Y3SATXKG.pdf  \n",
       "1  01JJ9CFR02CF4Z1CN8Y3SATXKG.pdf  \n",
       "2  01JJ9CFR02CF4Z1CN8Y3SATXKG.pdf  \n",
       "3  01JJ9CFR02CF4Z1CN8Y3SATXKG.pdf  \n",
       "4  01JJ9CFR02CF4Z1CN8Y3SATXKG.pdf  "
      ]
     },
     "execution_count": 2,
     "metadata": {},
     "output_type": "execute_result"
    }
   ],
   "source": [
    "df.head()"
   ]
  },
  {
   "cell_type": "code",
   "execution_count": 3,
   "id": "7db23f76",
   "metadata": {
    "execution": {
     "iopub.execute_input": "2025-09-22T08:51:34.843692Z",
     "iopub.status.busy": "2025-09-22T08:51:34.843353Z",
     "iopub.status.idle": "2025-09-22T08:51:34.852257Z",
     "shell.execute_reply": "2025-09-22T08:51:34.851615Z"
    },
    "papermill": {
     "duration": 0.012705,
     "end_time": "2025-09-22T08:51:34.853639",
     "exception": false,
     "start_time": "2025-09-22T08:51:34.840934",
     "status": "completed"
    },
    "tags": []
   },
   "outputs": [
    {
     "data": {
      "text/plain": [
       "array(['NAIROBI', 'NAROK', 'UASIN GISHU', 'MERU', 'ISIOLO', 'NYERI',\n",
       "       'EMBU', 'KIAMBU', 'MOMBASA', 'KILIFI', 'KWALE', 'MAKUENI',\n",
       "       'MACHAKOS', 'NAKURU', 'KERICHO', 'BUSIA', 'KAKAMEGA', 'KISUMU',\n",
       "       'KISII', 'MIGORI', 'KIRINYAGA', 'THARAKA NITHI', 'LAIKIPIA',\n",
       "       'MURANGA', 'KITUI', 'BOMET', 'TRANS NZOIA', 'NANDI', 'VIHIGA',\n",
       "       'TANA RIVER', 'MAKEUNI', 'KAJIADO', 'BUNGOMA', 'HOMABAY',\n",
       "       'GARISSA', 'TURKANA', 'ELGEYO MARAKWET', 'NYAMIRA', 'NYANDARUA',\n",
       "       'HOMA BAY', 'WEST POKOT', 'SIAYA', 'TAITA TAVETA', 'BARINGO',\n",
       "       'LAMU', 'MARSABIT', 'KISU MU', 'SAMBURU'], dtype=object)"
      ]
     },
     "execution_count": 3,
     "metadata": {},
     "output_type": "execute_result"
    }
   ],
   "source": [
    "df['county'].unique()"
   ]
  },
  {
   "cell_type": "code",
   "execution_count": null,
   "id": "0b7411fe",
   "metadata": {
    "papermill": {
     "duration": 0.001524,
     "end_time": "2025-09-22T08:51:34.857022",
     "exception": false,
     "start_time": "2025-09-22T08:51:34.855498",
     "status": "completed"
    },
    "tags": []
   },
   "outputs": [],
   "source": []
  }
 ],
 "metadata": {
  "kaggle": {
   "accelerator": "none",
   "dataSources": [
    {
     "datasetId": 8311966,
     "sourceId": 13129741,
     "sourceType": "datasetVersion"
    }
   ],
   "dockerImageVersionId": 31089,
   "isGpuEnabled": false,
   "isInternetEnabled": true,
   "language": "python",
   "sourceType": "notebook"
  },
  "kernelspec": {
   "display_name": "Python 3",
   "language": "python",
   "name": "python3"
  },
  "language_info": {
   "codemirror_mode": {
    "name": "ipython",
    "version": 3
   },
   "file_extension": ".py",
   "mimetype": "text/x-python",
   "name": "python",
   "nbconvert_exporter": "python",
   "pygments_lexer": "ipython3",
   "version": "3.11.13"
  },
  "papermill": {
   "default_parameters": {},
   "duration": 6.796547,
   "end_time": "2025-09-22T08:51:35.276269",
   "environment_variables": {},
   "exception": null,
   "input_path": "__notebook__.ipynb",
   "output_path": "__notebook__.ipynb",
   "parameters": {},
   "start_time": "2025-09-22T08:51:28.479722",
   "version": "2.6.0"
  }
 },
 "nbformat": 4,
 "nbformat_minor": 5
}
