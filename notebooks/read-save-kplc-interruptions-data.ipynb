{
 "cells": [
  {
   "cell_type": "code",
   "execution_count": 1,
   "id": "150189fa",
   "metadata": {
    "execution": {
     "iopub.execute_input": "2025-09-21T20:35:58.843543Z",
     "iopub.status.busy": "2025-09-21T20:35:58.843131Z",
     "iopub.status.idle": "2025-09-21T20:36:04.524042Z",
     "shell.execute_reply": "2025-09-21T20:36:04.522809Z"
    },
    "papermill": {
     "duration": 5.687278,
     "end_time": "2025-09-21T20:36:04.526214",
     "exception": false,
     "start_time": "2025-09-21T20:35:58.838936",
     "status": "completed"
    },
    "tags": []
   },
   "outputs": [
    {
     "name": "stdout",
     "output_type": "stream",
     "text": [
      "Collecting PyPDF2\r\n",
      "  Downloading pypdf2-3.0.1-py3-none-any.whl.metadata (6.8 kB)\r\n",
      "Downloading pypdf2-3.0.1-py3-none-any.whl (232 kB)\r\n",
      "\u001b[2K   \u001b[90m━━━━━━━━━━━━━━━━━━━━━━━━━━━━━━━━━━━━━━━━\u001b[0m \u001b[32m232.6/232.6 kB\u001b[0m \u001b[31m4.9 MB/s\u001b[0m eta \u001b[36m0:00:00\u001b[0m\r\n",
      "\u001b[?25hInstalling collected packages: PyPDF2\r\n",
      "Successfully installed PyPDF2-3.0.1\r\n"
     ]
    }
   ],
   "source": [
    "!pip install PyPDF2"
   ]
  },
  {
   "cell_type": "code",
   "execution_count": 2,
   "id": "2f218644",
   "metadata": {
    "execution": {
     "iopub.execute_input": "2025-09-21T20:36:04.535323Z",
     "iopub.status.busy": "2025-09-21T20:36:04.534958Z",
     "iopub.status.idle": "2025-09-21T20:36:04.555418Z",
     "shell.execute_reply": "2025-09-21T20:36:04.554258Z"
    },
    "papermill": {
     "duration": 0.027167,
     "end_time": "2025-09-21T20:36:04.557113",
     "exception": false,
     "start_time": "2025-09-21T20:36:04.529946",
     "status": "completed"
    },
    "tags": []
   },
   "outputs": [
    {
     "name": "stdout",
     "output_type": "stream",
     "text": [
      "['01JJ9CFR02CF4Z1CN8Y3SATXKG.pdf', '01K2P78RAN74262NZS75AAQSVC.pdf', '01JC3E4SK6Z5PR3C5XKKSFVXW1.pdf', '01K2C4D1CQHWJV0PJM3ZX22S2K.pdf', '01J1FA2JXK3QNX0PM6YAP0P3T2.pdf', '01J8PS7AX192XJ1FK0KQNW0JH5.pdf', '01JPSEJ4JPEP01G1Q4VXF4NKAH.pdf', '01JRJ9TXE0PNYESAQECD70S3YN.pdf', '01JH5EB3RPVS60XPN33565DNXZ.pdf', '01K3TRXMARGN2KZ66WF6Y78TMB.pdf', '01JN333MXKH8EH77TG2KB5Z31S.pdf', '01JADBBJMQ9DD8DK6FCE0BW2K3.pdf', '01JVY1ETS6ASGH434Y6NRZREKP.pdf', '01J8PJD2N8FWYSXJ3AD11TQH8C.pdf', '01J7MY7YRCJRM5SNA8EEBXQE3S.pdf', '01JV9VDQW0A7XAWCP8VQXDTC6D.pdf', '01JTR3EEJMZGWYZXDV0TXP9XH0.pdf', '01J7185395VJDMQ36RGAQV8SJN.pdf', '01K3602Z9HTKRN3FZ15KDCZF53.pdf', '01JHQ568NP8SRE1VNM9A67NH2D.pdf', '01K4VYBGKXTQYTJGFYF94Q95YT.pdf', '01JZSGZRY4HZHA1Q9WRDV8ZT0F.pdf', '01JJV2BMR0H8MRCAD42Y1KX5FZ.pdf', '01K5H1P29K0ZC0XE3Q8RE2CWP1.pdf', '01JMHWRB64HYFS4DXNT8G2AXPS.pdf', '01JM1N87MTDJ5242CE8GGQBCRP.pdf', '01JGNPY56W5V0NXNDG3Q6JGKRK.pdf', '01J871DG040Y12R55BTGT09WYN.pdf', '01JZ7KGAR4GPMNPMRCM5P1M9ST.pdf', '01K1JKNRVT8MN93RGC2KPH6248.pdf', '01JF74GM6PZ4W0V431G0CW2J28.pdf', '01J7GBQNFHE57VDQ3VE5P79VM5.pdf', '01JCPTZ0W41NNE0Q0M14HE7P5Q.pdf', '01JP7XEH05QF9NJM4TGRY2RMTY.pdf', '01JA7Y3RMRZVR9NNYMC4VRH4ZN.pdf', '01K003KRNX1VM1E7HKHCT83Q8G.pdf', '01K136H6CNFRF7PMN1S0DY1S6S.pdf', '01JWE3DAJTH2DBTJK6BZGEZDK9.pdf', '01K09726RVCV6HJN2ZCCSMP4EQ.pdf', '01JNNM6TPKB5QRQ7JC10WENG4Q.pdf', '01JXMQRS0EKAXCN3J2EGN4AHBP.pdf', '01JDSFBFT07Q0ARPMF06P19WF7.pdf', '01JB16DAT6GDH8V7WS828QEV6D.pdf', '01JS1XT0CJA8PCTTCWZ8FS8H8M.pdf', '01J6S7ZCZE49PQWVHX6R2Z0Y0D.pdf', '01JQZTQ1KJVZ8490XSAP5WD173.pdf', '01JQBGP805M1M59157RSXTFR4W.pdf', '01K0NWZ5AJWY2CKVR27HJTWFE4.pdf', '01JP7XF60MSAWJHA8FB4ZQRHY8.pdf', '01K4CVT9654ZXNHZ7PW0Y3AH3K.pdf', '01JYA1DANZCTPZA6ZC6HMHVKDD.pdf', '01JYNWXZAB6RR3SK7S4YBFRBMG.pdf', '01JSK6XSV27X6YHDX9CVZZ746Z.pdf', '01JD9R2KKKAJNQZ9ASNWVPKYNF.pdf', '01JT8PSACKGVT8BZXH2VA8CWXX.pdf']\n"
     ]
    }
   ],
   "source": [
    "import os\n",
    "pdfs = os.listdir('/kaggle/input/kenya-power-network-data/kplc_pdfs')\n",
    "print(pdfs)"
   ]
  },
  {
   "cell_type": "code",
   "execution_count": 3,
   "id": "806432fd",
   "metadata": {
    "_cell_guid": "b1076dfc-b9ad-4769-8c92-a6c4dae69d19",
    "_uuid": "8f2839f25d086af736a60e9eeb907d3b93b6e0e5",
    "execution": {
     "iopub.execute_input": "2025-09-21T20:36:04.564401Z",
     "iopub.status.busy": "2025-09-21T20:36:04.564081Z",
     "iopub.status.idle": "2025-09-21T20:36:04.568839Z",
     "shell.execute_reply": "2025-09-21T20:36:04.567726Z"
    },
    "papermill": {
     "duration": 0.010606,
     "end_time": "2025-09-21T20:36:04.570795",
     "exception": false,
     "start_time": "2025-09-21T20:36:04.560189",
     "status": "completed"
    },
    "tags": []
   },
   "outputs": [],
   "source": [
    "\n",
    "# # Open the PDF\n",
    "# with open(\"/kaggle/input/kenya-power-network-data/kplc_pdfs/01JT8PSACKGVT8BZXH2VA8CWXX.pdf\", \"rb\") as f: #01J1FA2JXK3QNX0PM6YAP0P3T2.pdf\n",
    "#     reader = PyPDF2.PdfReader(f)\n",
    "#     print(f\"Number of pages: {len(reader.pages)}\")\n",
    "#     text = ''\n",
    "#     for j in range(len(reader.pages)):\n",
    "#         # Read page\n",
    "#         page = reader.pages[j]\n",
    "#         text += page.extract_text()\n",
    "#         # print(text)\n",
    "#         #break\n",
    "# print(text)"
   ]
  },
  {
   "cell_type": "code",
   "execution_count": 4,
   "id": "f4ea429f",
   "metadata": {
    "execution": {
     "iopub.execute_input": "2025-09-21T20:36:04.578182Z",
     "iopub.status.busy": "2025-09-21T20:36:04.577849Z",
     "iopub.status.idle": "2025-09-21T20:36:20.680926Z",
     "shell.execute_reply": "2025-09-21T20:36:20.679870Z"
    },
    "papermill": {
     "duration": 16.108986,
     "end_time": "2025-09-21T20:36:20.682765",
     "exception": false,
     "start_time": "2025-09-21T20:36:04.573779",
     "status": "completed"
    },
    "tags": []
   },
   "outputs": [
    {
     "name": "stdout",
     "output_type": "stream",
     "text": [
      "Number of pages: 2\n",
      "01JJ9CFR02CF4Z1CN8Y3SATXKG\n",
      "(28, 6)\n",
      "Number of pages: 2\n",
      "01K2P78RAN74262NZS75AAQSVC\n",
      "(70, 6)\n",
      "Number of pages: 1\n",
      "01JC3E4SK6Z5PR3C5XKKSFVXW1\n",
      "(80, 6)\n",
      "Number of pages: 2\n",
      "01K2C4D1CQHWJV0PJM3ZX22S2K\n",
      "(118, 6)\n",
      "Number of pages: 2\n",
      "01J1FA2JXK3QNX0PM6YAP0P3T2\n",
      "(145, 6)\n",
      "Number of pages: 1\n",
      "01J8PS7AX192XJ1FK0KQNW0JH5\n",
      "(171, 6)\n",
      "Number of pages: 2\n",
      "01JPSEJ4JPEP01G1Q4VXF4NKAH\n",
      "(207, 6)\n",
      "Number of pages: 2\n",
      "01JRJ9TXE0PNYESAQECD70S3YN\n",
      "(252, 6)\n",
      "Number of pages: 2\n",
      "01JH5EB3RPVS60XPN33565DNXZ\n",
      "(288, 6)\n",
      "Number of pages: 2\n",
      "01K3TRXMARGN2KZ66WF6Y78TMB\n",
      "(324, 6)\n",
      "Number of pages: 2\n",
      "01JN333MXKH8EH77TG2KB5Z31S\n",
      "(371, 6)\n",
      "Number of pages: 1\n",
      "01JADBBJMQ9DD8DK6FCE0BW2K3\n",
      "(391, 6)\n",
      "Number of pages: 2\n",
      "01JVY1ETS6ASGH434Y6NRZREKP\n",
      "(445, 6)\n",
      "Number of pages: 1\n",
      "01J8PJD2N8FWYSXJ3AD11TQH8C\n",
      "(446, 6)\n",
      "Number of pages: 2\n",
      "01J7MY7YRCJRM5SNA8EEBXQE3S\n",
      "(484, 6)\n",
      "Number of pages: 2\n",
      "01JV9VDQW0A7XAWCP8VQXDTC6D\n",
      "(536, 6)\n",
      "Number of pages: 2\n",
      "01JTR3EEJMZGWYZXDV0TXP9XH0\n",
      "(587, 6)\n",
      "Number of pages: 2\n",
      "01J7185395VJDMQ36RGAQV8SJN\n",
      "(632, 6)\n",
      "Number of pages: 1\n",
      "01K3602Z9HTKRN3FZ15KDCZF53\n",
      "(659, 6)\n",
      "Number of pages: 2\n",
      "01JHQ568NP8SRE1VNM9A67NH2D\n",
      "(698, 6)\n",
      "Number of pages: 2\n",
      "01K4VYBGKXTQYTJGFYF94Q95YT\n",
      "(754, 6)\n",
      "Number of pages: 2\n",
      "01JZSGZRY4HZHA1Q9WRDV8ZT0F\n",
      "(805, 6)\n",
      "Number of pages: 2\n",
      "01JJV2BMR0H8MRCAD42Y1KX5FZ\n",
      "(830, 6)\n",
      "Number of pages: 2\n",
      "01K5H1P29K0ZC0XE3Q8RE2CWP1\n",
      "(881, 6)\n",
      "Number of pages: 3\n",
      "01JMHWRB64HYFS4DXNT8G2AXPS\n",
      "(938, 6)\n",
      "Number of pages: 2\n",
      "01JM1N87MTDJ5242CE8GGQBCRP\n",
      "(995, 6)\n",
      "Number of pages: 1\n",
      "01JGNPY56W5V0NXNDG3Q6JGKRK\n",
      "(1005, 6)\n",
      "Number of pages: 2\n",
      "01J871DG040Y12R55BTGT09WYN\n",
      "(1033, 6)\n",
      "Number of pages: 2\n",
      "01JZ7KGAR4GPMNPMRCM5P1M9ST\n",
      "(1065, 6)\n",
      "Number of pages: 2\n",
      "01K1JKNRVT8MN93RGC2KPH6248\n",
      "(1107, 6)\n",
      "Number of pages: 2\n",
      "01JF74GM6PZ4W0V431G0CW2J28\n",
      "(1138, 6)\n",
      "Number of pages: 2\n",
      "01J7GBQNFHE57VDQ3VE5P79VM5\n",
      "(1183, 6)\n",
      "Number of pages: 1\n",
      "01JCPTZ0W41NNE0Q0M14HE7P5Q\n",
      "(1194, 6)\n",
      "Number of pages: 2\n",
      "01JP7XEH05QF9NJM4TGRY2RMTY\n",
      "(1226, 6)\n",
      "Number of pages: 2\n",
      "01JA7Y3RMRZVR9NNYMC4VRH4ZN\n",
      "(1258, 6)\n",
      "Number of pages: 1\n",
      "01K003KRNX1VM1E7HKHCT83Q8G\n",
      "(1260, 6)\n",
      "Number of pages: 3\n",
      "01K136H6CNFRF7PMN1S0DY1S6S\n",
      "(1307, 6)\n",
      "Number of pages: 2\n",
      "01JWE3DAJTH2DBTJK6BZGEZDK9\n",
      "(1351, 6)\n",
      "Number of pages: 1\n",
      "01K09726RVCV6HJN2ZCCSMP4EQ\n",
      "(1351, 6)\n",
      "Number of pages: 2\n",
      "01JNNM6TPKB5QRQ7JC10WENG4Q\n",
      "(1408, 6)\n",
      "Number of pages: 1\n",
      "01JXMQRS0EKAXCN3J2EGN4AHBP\n",
      "(1420, 6)\n",
      "Number of pages: 1\n",
      "01JDSFBFT07Q0ARPMF06P19WF7\n",
      "(1452, 6)\n",
      "Number of pages: 1\n",
      "01JB16DAT6GDH8V7WS828QEV6D\n",
      "(1462, 6)\n",
      "Number of pages: 1\n",
      "01JS1XT0CJA8PCTTCWZ8FS8H8M\n",
      "(1489, 6)\n",
      "Number of pages: 2\n",
      "01J6S7ZCZE49PQWVHX6R2Z0Y0D\n",
      "(1520, 6)\n",
      "Number of pages: 2\n",
      "01JQZTQ1KJVZ8490XSAP5WD173\n",
      "(1558, 6)\n",
      "Number of pages: 2\n",
      "01JQBGP805M1M59157RSXTFR4W\n",
      "(1601, 6)\n",
      "Number of pages: 2\n",
      "01K0NWZ5AJWY2CKVR27HJTWFE4\n",
      "(1648, 6)\n",
      "Number of pages: 1\n",
      "01JP7XF60MSAWJHA8FB4ZQRHY8\n",
      "(1649, 6)\n",
      "Number of pages: 2\n",
      "01K4CVT9654ZXNHZ7PW0Y3AH3K\n",
      "(1706, 6)\n",
      "Number of pages: 1\n",
      "01JYA1DANZCTPZA6ZC6HMHVKDD\n",
      "(1736, 6)\n",
      "Number of pages: 2\n",
      "01JYNWXZAB6RR3SK7S4YBFRBMG\n",
      "(1781, 6)\n",
      "Number of pages: 1\n",
      "01JSK6XSV27X6YHDX9CVZZ746Z\n",
      "(1801, 6)\n",
      "Number of pages: 1\n",
      "01JD9R2KKKAJNQZ9ASNWVPKYNF\n",
      "(1827, 6)\n",
      "Number of pages: 2\n",
      "01JT8PSACKGVT8BZXH2VA8CWXX\n",
      "(1876, 6)\n"
     ]
    }
   ],
   "source": [
    "import re\n",
    "import pandas as pd\n",
    "import PyPDF2\n",
    "\n",
    "\n",
    "\n",
    "records = []\n",
    "county = None\n",
    "area = None\n",
    "collect_places = False\n",
    "places = []\n",
    "files = []\n",
    "\n",
    "for pdf in pdfs:\n",
    "    # Open the PDF\n",
    "    with open(\"/kaggle/input/kenya-power-network-data/kplc_pdfs/\"+pdf, \"rb\") as f: #01J1FA2JXK3QNX0PM6YAP0P3T2.pdf\n",
    "        reader = PyPDF2.PdfReader(f)\n",
    "        print(f\"Number of pages: {len(reader.pages)}\")\n",
    "        text = ''\n",
    "        for j in range(len(reader.pages)):\n",
    "            # Read page\n",
    "            page = reader.pages[j]\n",
    "            text += page.extract_text()\n",
    "            # print(text)\n",
    "            #break\n",
    "        #text = text  # your notice string\n",
    "        filename = pdf.split('.')[0]\n",
    "        print(filename)\n",
    "        files.append(filename)\n",
    "\n",
    "        for line in text.splitlines():\n",
    "            line = line.strip()\n",
    "        \n",
    "            # detect county\n",
    "            if \"PARTS OF\" in line and \"COUNTY\" in line:\n",
    "                county = line.replace(\"PARTS OF\", \"\").replace(\"COUNTY\", \"\").strip()\n",
    "                collect_places = False\n",
    "            if \"NAIROBI REGION\" in line:\n",
    "                county = \"NAIROBI\"\n",
    "                collect_places = False\n",
    "        \n",
    "            # detect area\n",
    "            if line.startswith(\"AREA:\") or line.startswith(\"AREA :\"):\n",
    "                area = line.split(\":\", 1)[1].strip()\n",
    "                collect_places = False\n",
    "        \n",
    "            # detect date + time\n",
    "            elif line.startswith(\"DATE:\"):\n",
    "                date = re.search(r\"DATE:\\s*(.*?)\\s+TIME\", line)\n",
    "                time = re.search(r\"TIME:?\\s*(.*)\", line)\n",
    "                if date and time:\n",
    "                    if places:  # flush previous record\n",
    "                        records[-1][\"places\"] = places\n",
    "                        places = []\n",
    "                    records.append({\n",
    "                        \"county\": county,\n",
    "                        \"area\": area,\n",
    "                        \"date\": date.group(1).strip(),\n",
    "                        \"time\": time.group(1).strip(),\n",
    "                        \"places\": [],\n",
    "                        \"file\":pdf\n",
    "                    })\n",
    "                    collect_places = True  # start collecting places after this\n",
    "        \n",
    "            # collect places until the next AREA/COUNTY\n",
    "            else:\n",
    "                if collect_places and line and not line.startswith((\"AREA\", \"PARTS OF\", \"CENTRAL\", \"NORTH\", \"WESTERN\", \"SOUTH\", \"MT.\")):\n",
    "                    places.extend([p.strip() for p in line.split(\",\") if p.strip()])\n",
    "        \n",
    "        # flush last block\n",
    "        if records and not records[-1][\"places\"]:\n",
    "            records[-1][\"places\"] = places\n",
    "        \n",
    "        df = pd.DataFrame(records)\n",
    "        print(df.shape)\n"
   ]
  },
  {
   "cell_type": "code",
   "execution_count": 5,
   "id": "882a2f75",
   "metadata": {
    "execution": {
     "iopub.execute_input": "2025-09-21T20:36:20.694505Z",
     "iopub.status.busy": "2025-09-21T20:36:20.693783Z",
     "iopub.status.idle": "2025-09-21T20:36:20.722553Z",
     "shell.execute_reply": "2025-09-21T20:36:20.721631Z"
    },
    "papermill": {
     "duration": 0.03616,
     "end_time": "2025-09-21T20:36:20.724166",
     "exception": false,
     "start_time": "2025-09-21T20:36:20.688006",
     "status": "completed"
    },
    "tags": []
   },
   "outputs": [
    {
     "data": {
      "text/html": [
       "<div>\n",
       "<style scoped>\n",
       "    .dataframe tbody tr th:only-of-type {\n",
       "        vertical-align: middle;\n",
       "    }\n",
       "\n",
       "    .dataframe tbody tr th {\n",
       "        vertical-align: top;\n",
       "    }\n",
       "\n",
       "    .dataframe thead th {\n",
       "        text-align: right;\n",
       "    }\n",
       "</style>\n",
       "<table border=\"1\" class=\"dataframe\">\n",
       "  <thead>\n",
       "    <tr style=\"text-align: right;\">\n",
       "      <th></th>\n",
       "      <th>county</th>\n",
       "      <th>area</th>\n",
       "      <th>date</th>\n",
       "      <th>time</th>\n",
       "      <th>places</th>\n",
       "      <th>file</th>\n",
       "    </tr>\n",
       "  </thead>\n",
       "  <tbody>\n",
       "    <tr>\n",
       "      <th>1871</th>\n",
       "      <td>MOMBASA</td>\n",
       "      <td>MAZERAS KWA BEBORA</td>\n",
       "      <td>Friday   09.05.2025</td>\n",
       "      <td>9.00 A.M. – 5.00 P.M.</td>\n",
       "      <td>[Mwache Dam &amp; adjacent customers.]</td>\n",
       "      <td>01JT8PSACKGVT8BZXH2VA8CWXX.pdf</td>\n",
       "    </tr>\n",
       "    <tr>\n",
       "      <th>1872</th>\n",
       "      <td>KILIFI</td>\n",
       "      <td>MAZERAS KWA BEBORA</td>\n",
       "      <td>Tuesday 06.05.2025</td>\n",
       "      <td>9.00 A.M. – 5.00 P.M.</td>\n",
       "      <td>[Baharini Pry, Baran Kenya Kikamabala, Kadzeng...</td>\n",
       "      <td>01JT8PSACKGVT8BZXH2VA8CWXX.pdf</td>\n",
       "    </tr>\n",
       "    <tr>\n",
       "      <th>1873</th>\n",
       "      <td>KILIFI</td>\n",
       "      <td>WATAMU AREA</td>\n",
       "      <td>Wednesday 07.05.2025</td>\n",
       "      <td>9.00 A.M. – 2.00 P.M.</td>\n",
       "      <td>[Watamu Village, Watamu Police, Mawe Nzuri Res...</td>\n",
       "      <td>01JT8PSACKGVT8BZXH2VA8CWXX.pdf</td>\n",
       "    </tr>\n",
       "    <tr>\n",
       "      <th>1874</th>\n",
       "      <td>KWALE</td>\n",
       "      <td>SHAMU MABOKONI</td>\n",
       "      <td>Tuesday 06.05.2025</td>\n",
       "      <td>9.00 A.M. – 12.00 P.M.</td>\n",
       "      <td>[Mabokoni, Mbuwani, Mwanjamba, Technical Unive...</td>\n",
       "      <td>01JT8PSACKGVT8BZXH2VA8CWXX.pdf</td>\n",
       "    </tr>\n",
       "    <tr>\n",
       "      <th>1875</th>\n",
       "      <td>KWALE</td>\n",
       "      <td>DIANI</td>\n",
       "      <td>Thursday 08.05.2025</td>\n",
       "      <td>9.00 A.M. – 3.00 P.M.</td>\n",
       "      <td>[Carrefour S /Mkt, Swahili Beach Resort, Kaska...</td>\n",
       "      <td>01JT8PSACKGVT8BZXH2VA8CWXX.pdf</td>\n",
       "    </tr>\n",
       "  </tbody>\n",
       "</table>\n",
       "</div>"
      ],
      "text/plain": [
       "       county                area                  date  \\\n",
       "1871  MOMBASA  MAZERAS KWA BEBORA   Friday   09.05.2025   \n",
       "1872   KILIFI  MAZERAS KWA BEBORA    Tuesday 06.05.2025   \n",
       "1873   KILIFI         WATAMU AREA  Wednesday 07.05.2025   \n",
       "1874    KWALE      SHAMU MABOKONI    Tuesday 06.05.2025   \n",
       "1875    KWALE               DIANI   Thursday 08.05.2025   \n",
       "\n",
       "                        time  \\\n",
       "1871   9.00 A.M. – 5.00 P.M.   \n",
       "1872   9.00 A.M. – 5.00 P.M.   \n",
       "1873   9.00 A.M. – 2.00 P.M.   \n",
       "1874  9.00 A.M. – 12.00 P.M.   \n",
       "1875   9.00 A.M. – 3.00 P.M.   \n",
       "\n",
       "                                                 places  \\\n",
       "1871                 [Mwache Dam & adjacent customers.]   \n",
       "1872  [Baharini Pry, Baran Kenya Kikamabala, Kadzeng...   \n",
       "1873  [Watamu Village, Watamu Police, Mawe Nzuri Res...   \n",
       "1874  [Mabokoni, Mbuwani, Mwanjamba, Technical Unive...   \n",
       "1875  [Carrefour S /Mkt, Swahili Beach Resort, Kaska...   \n",
       "\n",
       "                                file  \n",
       "1871  01JT8PSACKGVT8BZXH2VA8CWXX.pdf  \n",
       "1872  01JT8PSACKGVT8BZXH2VA8CWXX.pdf  \n",
       "1873  01JT8PSACKGVT8BZXH2VA8CWXX.pdf  \n",
       "1874  01JT8PSACKGVT8BZXH2VA8CWXX.pdf  \n",
       "1875  01JT8PSACKGVT8BZXH2VA8CWXX.pdf  "
      ]
     },
     "execution_count": 5,
     "metadata": {},
     "output_type": "execute_result"
    }
   ],
   "source": [
    "df.tail()"
   ]
  },
  {
   "cell_type": "code",
   "execution_count": 6,
   "id": "45c0e507",
   "metadata": {
    "execution": {
     "iopub.execute_input": "2025-09-21T20:36:20.735840Z",
     "iopub.status.busy": "2025-09-21T20:36:20.735559Z",
     "iopub.status.idle": "2025-09-21T20:36:20.746759Z",
     "shell.execute_reply": "2025-09-21T20:36:20.745835Z"
    },
    "papermill": {
     "duration": 0.018865,
     "end_time": "2025-09-21T20:36:20.748249",
     "exception": false,
     "start_time": "2025-09-21T20:36:20.729384",
     "status": "completed"
    },
    "tags": []
   },
   "outputs": [
    {
     "data": {
      "text/plain": [
       "array(['NAIROBI', 'NAROK', 'UASIN GISHU', 'MERU', 'ISIOLO', 'NYERI',\n",
       "       'EMBU', 'KIAMBU', 'MOMBASA', 'KILIFI', 'KWALE', 'MAKUENI',\n",
       "       'MACHAKOS', 'NAKURU', 'KERICHO', 'BUSIA', 'KAKAMEGA', 'KISUMU',\n",
       "       'AREA:  KISII', 'MIGORI', 'KIRINYAGA', 'THARAKA NITHI', 'LAIKIPIA',\n",
       "       'MURANG’A', 'KITUI', 'BOMET', 'TRANS NZOIA', 'NANDI', 'VIHIGA',\n",
       "       'KISII', 'TANA RIVER', 'MAKEUNI', 'KAJIADO', 'BUNGOMA', 'HOMABAY',\n",
       "       'GARISSA', 'BOMET/NAROK', 'TURKANA', 'ELGEYO MARAKWET', 'NYAMIRA',\n",
       "       'NYANDADRUA', 'HOMA BAY', 'WEST POKOT', 'B UNGOMA', 'SIAYA',\n",
       "       'KAKAME GA', 'KAKAMEG', 'TAITA TAVETA', 'B OMET', 'NYANDARUA',\n",
       "       'TA ITA TAVETA', 'NAKURU/BARINGO', 'NAIROBI  WEST  SUB -',\n",
       "       'MURANG ’A/KIAMBU', 'LAMU', 'NAIROBI SOUTH SUB -', 'BARINGO',\n",
       "       'MARSABIT', 'MURANG’A/KIAMBU', 'KISU MU', 'SAMBURU'], dtype=object)"
      ]
     },
     "execution_count": 6,
     "metadata": {},
     "output_type": "execute_result"
    }
   ],
   "source": [
    "df['county'].unique()"
   ]
  },
  {
   "cell_type": "code",
   "execution_count": 7,
   "id": "2a8e896e",
   "metadata": {
    "execution": {
     "iopub.execute_input": "2025-09-21T20:36:20.759764Z",
     "iopub.status.busy": "2025-09-21T20:36:20.759463Z",
     "iopub.status.idle": "2025-09-21T20:36:20.801643Z",
     "shell.execute_reply": "2025-09-21T20:36:20.800724Z"
    },
    "papermill": {
     "duration": 0.049848,
     "end_time": "2025-09-21T20:36:20.803388",
     "exception": false,
     "start_time": "2025-09-21T20:36:20.753540",
     "status": "completed"
    },
    "tags": []
   },
   "outputs": [],
   "source": [
    "df.to_csv(\"kplc-interruptions-data.csv\", index=False)"
   ]
  },
  {
   "cell_type": "code",
   "execution_count": null,
   "id": "c53bbfd3",
   "metadata": {
    "papermill": {
     "duration": 0.004961,
     "end_time": "2025-09-21T20:36:20.813718",
     "exception": false,
     "start_time": "2025-09-21T20:36:20.808757",
     "status": "completed"
    },
    "tags": []
   },
   "outputs": [],
   "source": []
  }
 ],
 "metadata": {
  "kaggle": {
   "accelerator": "none",
   "dataSources": [
    {
     "databundleVersionId": 13815617,
     "datasetId": 8311966,
     "sourceId": 13129575,
     "sourceType": "datasetVersion"
    }
   ],
   "dockerImageVersionId": 31089,
   "isGpuEnabled": false,
   "isInternetEnabled": true,
   "language": "python",
   "sourceType": "notebook"
  },
  "kernelspec": {
   "display_name": "Python 3",
   "language": "python",
   "name": "python3"
  },
  "language_info": {
   "codemirror_mode": {
    "name": "ipython",
    "version": 3
   },
   "file_extension": ".py",
   "mimetype": "text/x-python",
   "name": "python",
   "nbconvert_exporter": "python",
   "pygments_lexer": "ipython3",
   "version": "3.11.13"
  },
  "papermill": {
   "default_parameters": {},
   "duration": 28.337457,
   "end_time": "2025-09-21T20:36:21.440216",
   "environment_variables": {},
   "exception": null,
   "input_path": "__notebook__.ipynb",
   "output_path": "__notebook__.ipynb",
   "parameters": {},
   "start_time": "2025-09-21T20:35:53.102759",
   "version": "2.6.0"
  }
 },
 "nbformat": 4,
 "nbformat_minor": 5
}
